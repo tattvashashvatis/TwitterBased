{
 "cells": [
  {
   "cell_type": "code",
   "execution_count": 1,
   "metadata": {},
   "outputs": [
    {
     "data": {
      "text/plain": [
       "('64bit', 'WindowsPE')"
      ]
     },
     "execution_count": 1,
     "metadata": {},
     "output_type": "execute_result"
    }
   ],
   "source": [
    "import platform\n",
    "platform.architecture()"
   ]
  },
  {
   "cell_type": "code",
   "execution_count": 4,
   "metadata": {},
   "outputs": [],
   "source": [
    "your_local_path = 'D:/shrikant/Application'"
   ]
  },
  {
   "cell_type": "code",
   "execution_count": null,
   "metadata": {},
   "outputs": [],
   "source": [
    "#source - twitter data analysis https://datascienceplus.com/twitter-analysis-with-python/"
   ]
  },
  {
   "cell_type": "code",
   "execution_count": 5,
   "metadata": {},
   "outputs": [],
   "source": [
    "import os\n",
    "os.environ['PROJ_LIB'] = r'D:/shrikant/Application/anaconda/pkgs/proj4-5.2.0-ha925a31_1/Library/share'"
   ]
  },
  {
   "cell_type": "code",
   "execution_count": 6,
   "metadata": {},
   "outputs": [],
   "source": [
    "import numpy as np\n",
    "import pandas as pd\n",
    "import re\n",
    "import warnings"
   ]
  },
  {
   "cell_type": "code",
   "execution_count": 7,
   "metadata": {},
   "outputs": [],
   "source": [
    "#Visualisation\n",
    "import matplotlib.pyplot as plt\n",
    "import matplotlib\n",
    "import seaborn as sns\n",
    "from IPython.display import display\n",
    "from mpl_toolkits.basemap import Basemap #conda install basemap & then set the PROJ_LIB envt variable\n",
    "from wordcloud import WordCloud, STOPWORDS #pip  install Wordcloud"
   ]
  },
  {
   "cell_type": "code",
   "execution_count": 9,
   "metadata": {},
   "outputs": [],
   "source": [
    "#nltk\n",
    "from nltk.stem import WordNetLemmatizer\n",
    "from nltk.sentiment.vader import SentimentIntensityAnalyzer\n",
    "from nltk.sentiment.util import *\n",
    "from nltk import tokenize\n",
    "\n",
    "matplotlib.style.use('ggplot')\n",
    "pd.options.mode.chained_assignment = None\n",
    "warnings.filterwarnings(\"ignore\")\n",
    "\n",
    "%matplotlib inline"
   ]
  },
  {
   "cell_type": "code",
   "execution_count": null,
   "metadata": {},
   "outputs": [],
   "source": [
    "//tweets = pd.read_csv('D:/shrikant/Application/tweets_all.csv', encoding = \"ISO-8859-1\")"
   ]
  },
  {
   "cell_type": "code",
   "execution_count": null,
   "metadata": {},
   "outputs": [],
   "source": [
    "#Preprocessing del RT @blablabla:\n",
    "tweets['tweetos'] = '' \n",
    "\n",
    "#add tweetos first part\n",
    "for i in range(len(tweets['text'])):\n",
    "    try:\n",
    "        tweets['tweetos'][i] = tweets['text'].str.split(' ')[i][0]\n",
    "    except AttributeError:    \n",
    "        tweets['tweetos'][i] = 'other'\n",
    "\n",
    "#Preprocessing tweetos. select tweetos contains 'RT @'\n",
    "for i in range(len(tweets['text'])):\n",
    "    if tweets['tweetos'].str.contains('@')[i]  == False:\n",
    "        tweets['tweetos'][i] = 'other'\n",
    "        \n",
    "# remove URLs, RTs, and twitter handles\n",
    "for i in range(len(tweets['text'])):\n",
    "    tweets['text'][i] = \" \".join([word for word in tweets['text'][i].split()\n",
    "                                if 'http' not in word and '@' not in word and '<' not in word])\n",
    "\n",
    "\n",
    "tweets['text'][1]"
   ]
  },
  {
   "cell_type": "code",
   "execution_count": null,
   "metadata": {},
   "outputs": [],
   "source": [
    "#https://www.geeksforgeeks.org/twitter-sentiment-analysis-using-python/\n",
    "#twitter analysis\n",
    "\n",
    "import re \n",
    "import tweepy \n",
    "from tweepy import OAuthHandler \n",
    "from textblob import TextBlob \n",
    "\n",
    "class TwitterClient(object): \n",
    "\t''' \n",
    "\tGeneric Twitter Class for sentiment analysis. \n",
    "\t'''\n",
    "\tdef __init__(self): \n",
    "\t\t''' \n",
    "\t\tClass constructor or initialization method. \n",
    "\t\t'''\n",
    "\t\t# keys and tokens from the Twitter Dev Console \n",
    "\t\tconsumer_key = 'XXXXXXXXXXXXXXXXXXXXXXXX'\n",
    "\t\tconsumer_secret = 'XXXXXXXXXXXXXXXXXXXXXXXXXXXX'\n",
    "\t\taccess_token = 'XXXXXXXXXXXXXXXXXXXXXXXXXXXX'\n",
    "\t\taccess_token_secret = 'XXXXXXXXXXXXXXXXXXXXXXXXX'\n",
    "\n",
    "\t\t# attempt authentication \n",
    "\t\ttry: \n",
    "\t\t\t# create OAuthHandler object \n",
    "\t\t\tself.auth = OAuthHandler(consumer_key, consumer_secret) \n",
    "\t\t\t# set access token and secret \n",
    "\t\t\tself.auth.set_access_token(access_token, access_token_secret) \n",
    "\t\t\t# create tweepy API object to fetch tweets \n",
    "\t\t\tself.api = tweepy.API(self.auth) \n",
    "\t\texcept: \n",
    "\t\t\tprint(\"Error: Authentication Failed\") \n",
    "\n",
    "\tdef clean_tweet(self, tweet): \n",
    "\t\t''' \n",
    "\t\tUtility function to clean tweet text by removing links, special characters \n",
    "\t\tusing simple regex statements. \n",
    "\t\t'''\n",
    "\t\treturn ' '.join(re.sub(\"(@[A-Za-z0-9]+)|([^0-9A-Za-z \\t]) \n",
    "\t\t\t\t\t\t\t\t\t|(\\w+:\\/\\/\\S+)\", \" \", tweet).split()) \n",
    "\n",
    "\tdef get_tweet_sentiment(self, tweet): \n",
    "\t\t''' \n",
    "\t\tUtility function to classify sentiment of passed tweet \n",
    "\t\tusing textblob's sentiment method \n",
    "\t\t'''\n",
    "\t\t# create TextBlob object of passed tweet text \n",
    "\t\tanalysis = TextBlob(self.clean_tweet(tweet)) \n",
    "\t\t# set sentiment \n",
    "\t\tif analysis.sentiment.polarity > 0: \n",
    "\t\t\treturn 'positive'\n",
    "\t\telif analysis.sentiment.polarity == 0: \n",
    "\t\t\treturn 'neutral'\n",
    "\t\telse: \n",
    "\t\t\treturn 'negative'\n",
    "\n",
    "\tdef get_tweets(self, query, count = 10): \n",
    "\t\t''' \n",
    "\t\tMain function to fetch tweets and parse them. \n",
    "\t\t'''\n",
    "\t\t# empty list to store parsed tweets \n",
    "\t\ttweets = [] \n",
    "\n",
    "\t\ttry: \n",
    "\t\t\t# call twitter api to fetch tweets \n",
    "\t\t\tfetched_tweets = self.api.search(q = query, count = count) \n",
    "\n",
    "\t\t\t# parsing tweets one by one \n",
    "\t\t\tfor tweet in fetched_tweets: \n",
    "\t\t\t\t# empty dictionary to store required params of a tweet \n",
    "\t\t\t\tparsed_tweet = {} \n",
    "\n",
    "\t\t\t\t# saving text of tweet \n",
    "\t\t\t\tparsed_tweet['text'] = tweet.text \n",
    "\t\t\t\t# saving sentiment of tweet \n",
    "\t\t\t\tparsed_tweet['sentiment'] = self.get_tweet_sentiment(tweet.text) \n",
    "\n",
    "\t\t\t\t# appending parsed tweet to tweets list \n",
    "\t\t\t\tif tweet.retweet_count > 0: \n",
    "\t\t\t\t\t# if tweet has retweets, ensure that it is appended only once \n",
    "\t\t\t\t\tif parsed_tweet not in tweets: \n",
    "\t\t\t\t\t\ttweets.append(parsed_tweet) \n",
    "\t\t\t\telse: \n",
    "\t\t\t\t\ttweets.append(parsed_tweet) \n",
    "\n",
    "\t\t\t# return parsed tweets \n",
    "\t\t\treturn tweets \n",
    "\n",
    "\t\texcept tweepy.TweepError as e: \n",
    "\t\t\t# print error (if any) \n",
    "\t\t\tprint(\"Error : \" + str(e)) \n",
    "\n",
    "def main(): \n",
    "\t# creating object of TwitterClient Class \n",
    "\tapi = TwitterClient() \n",
    "\t# calling function to get tweets \n",
    "\ttweets = api.get_tweets(query = 'Donald Trump', count = 200) \n",
    "\n",
    "\t# picking positive tweets from tweets \n",
    "\tptweets = [tweet for tweet in tweets if tweet['sentiment'] == 'positive'] \n",
    "\t# percentage of positive tweets \n",
    "\tprint(\"Positive tweets percentage: {} %\".format(100*len(ptweets)/len(tweets))) \n",
    "\t# picking negative tweets from tweets \n",
    "\tntweets = [tweet for tweet in tweets if tweet['sentiment'] == 'negative'] \n",
    "\t# percentage of negative tweets \n",
    "\tprint(\"Negative tweets percentage: {} %\".format(100*len(ntweets)/len(tweets))) \n",
    "\t# percentage of neutral tweets \n",
    "\tprint(\"Neutral tweets percentage: {} % \\ \n",
    "\t\t\".format(100*len(tweets - ntweets - ptweets)/len(tweets))) \n",
    "\n",
    "\t# printing first 5 positive tweets \n",
    "\tprint(\"\\n\\nPositive tweets:\") \n",
    "\tfor tweet in ptweets[:10]: \n",
    "\t\tprint(tweet['text']) \n",
    "\n",
    "\t# printing first 5 negative tweets \n",
    "\tprint(\"\\n\\nNegative tweets:\") \n",
    "\tfor tweet in ntweets[:10]: \n",
    "\t\tprint(tweet['text']) \n",
    "\n",
    "if __name__ == \"__main__\": \n",
    "\t# calling main function \n",
    "\tmain() \n"
   ]
  },
  {
   "cell_type": "code",
   "execution_count": null,
   "metadata": {
    "scrolled": false
   },
   "outputs": [],
   "source": [
    "help ()"
   ]
  },
  {
   "cell_type": "code",
   "execution_count": null,
   "metadata": {},
   "outputs": [],
   "source": [
    "i = 'my name'\n",
    "print (i)"
   ]
  },
  {
   "cell_type": "code",
   "execution_count": null,
   "metadata": {},
   "outputs": [],
   "source": [
    "str_x='Apples are better than \\\\n Oranges'\n",
    "print(str_x)"
   ]
  },
  {
   "cell_type": "code",
   "execution_count": null,
   "metadata": {},
   "outputs": [],
   "source": [
    "str_ex = 'i love python because it is so easy to use it and also it is used by many other IT companies'\n",
    "str_ex.split(\"it\")\n",
    "print (str_ex.split('it'))\n",
    "str_ex.capitalize()"
   ]
  },
  {
   "cell_type": "code",
   "execution_count": null,
   "metadata": {},
   "outputs": [],
   "source": [
    "from datetime import datetime\n",
    "date1=\"wednesday, june 6, 2018\"\n",
    "date2='6/6/18'\n",
    "date3='06-06-2018'\n",
    "date4='6Jun18'\n",
    "date5='Jun618'\n",
    "#dt1=datetime.strptime(date1,'%A, %B %d, %Y')\n",
    "#print (dt1)\n",
    "dt4=datetime.strptime(date4,'%d%b%y')\n",
    "print(dt4)\n",
    "dt5=datetime.strptime(date5,'%b%d%y')\n",
    "print(dt5)"
   ]
  },
  {
   "cell_type": "code",
   "execution_count": null,
   "metadata": {},
   "outputs": [],
   "source": [
    "help (repr)"
   ]
  },
  {
   "cell_type": "code",
   "execution_count": null,
   "metadata": {},
   "outputs": [],
   "source": [
    "help"
   ]
  },
  {
   "cell_type": "code",
   "execution_count": null,
   "metadata": {},
   "outputs": [],
   "source": [
    "i = \"my name\"\n",
    "if i=4\n",
    "print (i)\n",
    "else print (i)"
   ]
  },
  {
   "cell_type": "code",
   "execution_count": null,
   "metadata": {},
   "outputs": [],
   "source": [
    "text=\"my name\" \n",
    "number = 100\n",
    "    if number < 101:\n",
    "     print (text)\n",
    "print text"
   ]
  },
  {
   "cell_type": "code",
   "execution_count": null,
   "metadata": {},
   "outputs": [],
   "source": [
    " i =\"my name is kaun\"\n",
    "print (i)\n",
    "    "
   ]
  },
  {
   "cell_type": "code",
   "execution_count": null,
   "metadata": {},
   "outputs": [],
   "source": [
    "text=\"my name \"\n",
    "concat =\"kaun hae\"\n",
    "print (text+concat)"
   ]
  },
  {
   "cell_type": "code",
   "execution_count": null,
   "metadata": {},
   "outputs": [],
   "source": [
    "print(\"Apples are better than\")\n",
    "'''print(\"\")'''\n",
    "print(\"oraNGES\")"
   ]
  },
  {
   "cell_type": "code",
   "execution_count": null,
   "metadata": {},
   "outputs": [],
   "source": [
    "'''Apples are better than \n",
    "Oranges'''"
   ]
  },
  {
   "cell_type": "code",
   "execution_count": null,
   "metadata": {},
   "outputs": [],
   "source": [
    "'''!@#$%^&*()_+\n",
    "##%$^&`\\|\\\n",
    "?><+09876\n",
    "54321`'''"
   ]
  },
  {
   "cell_type": "code",
   "execution_count": null,
   "metadata": {},
   "outputs": [],
   "source": [
    "print #!@#$%^&*()_+\n",
    "##%$^&`\\|\\\n",
    "#?><+09876\n",
    "#54321`'''"
   ]
  },
  {
   "cell_type": "code",
   "execution_count": null,
   "metadata": {},
   "outputs": [],
   "source": [
    "print( #!@#$%^&*()_+\n",
    "##%$^&`\\|\\\n",
    "#?><+09876\n",
    "#54321`''')"
   ]
  },
  {
   "cell_type": "code",
   "execution_count": null,
   "metadata": {},
   "outputs": [],
   "source": [
    "print ('#!@#$%^&*()_+')\n",
    "print ('\"##%$^&`\\|\\\"')\n",
    "#?><+09876\n",
    "#54321`''')"
   ]
  },
  {
   "cell_type": "code",
   "execution_count": null,
   "metadata": {},
   "outputs": [],
   "source": [
    "string_ex = “I love python because it is so easy to use it and also it is used by many other IT companies”\n",
    "string_ex.split(\"it\")"
   ]
  },
  {
   "cell_type": "code",
   "execution_count": null,
   "metadata": {},
   "outputs": [],
   "source": [
    "a=100\n",
    "b=2.7\n",
    "print(b/a)\n",
    "c=\"3.44\"\n",
    "print(c)\n",
    "print(float(c)/a)\n",
    "d=20\n",
    "d=\"40\"\n",
    "print(d)\n",
    "a=\"this is my time\"\n",
    "print (a.replace('t','i'))\n"
   ]
  },
  {
   "cell_type": "code",
   "execution_count": null,
   "metadata": {},
   "outputs": [],
   "source": [
    "list = ['test', 'big', 23, 'rest',(23, 'test', 45)]\n",
    "#print (list)\n",
    "print (list[::4])\n",
    "strr = ('test, base')\n",
    "print (strr)"
   ]
  },
  {
   "cell_type": "code",
   "execution_count": null,
   "metadata": {},
   "outputs": [],
   "source": [
    "strex='i lOve pYthon'\n",
    "strex.isupper()\n",
    "strex.swapcase()\n",
    "strex.strip('P')\n",
    "#strex[1:-1]"
   ]
  },
  {
   "cell_type": "markdown",
   "metadata": {},
   "source": [
    "# Shrikant Sundaram \n",
    "## Professional Profile\n",
    "\n",
    "Apply my *vast experience in IT industry* towards the enhancement of understanding and comprehension of employed teams.\n",
    "Direct practical experience towards imbibing values of an organization.\n",
    "Contribute to the well being of the organizational methods and processes for wholesome growth."
   ]
  },
  {
   "cell_type": "code",
   "execution_count": null,
   "metadata": {},
   "outputs": [],
   "source": [
    "import pandas as pd\n",
    "\n",
    "airline_df = pd.read_csv(\"D:/shrikant/Application/Wk7-11-12/WS7_attachment_Project_Datasets_lyst9827/Project Datasets/attachment_Project_1_NYC-Flight_data/Project_1_NYC-Flight data/flight_data.csv\")"
   ]
  },
  {
   "cell_type": "code",
   "execution_count": null,
   "metadata": {},
   "outputs": [],
   "source": [
    "airline_df.dtypes"
   ]
  },
  {
   "cell_type": "code",
   "execution_count": null,
   "metadata": {},
   "outputs": [],
   "source": [
    "airline_df.shape"
   ]
  },
  {
   "cell_type": "code",
   "execution_count": null,
   "metadata": {},
   "outputs": [],
   "source": [
    "airline_df.info()"
   ]
  },
  {
   "cell_type": "code",
   "execution_count": null,
   "metadata": {},
   "outputs": [],
   "source": [
    "airline_df.columns"
   ]
  },
  {
   "cell_type": "code",
   "execution_count": null,
   "metadata": {
    "scrolled": true
   },
   "outputs": [],
   "source": [
    "b()"
   ]
  },
  {
   "cell_type": "code",
   "execution_count": null,
   "metadata": {
    "scrolled": false
   },
   "outputs": [],
   "source": [
    "airline_df"
   ]
  },
  {
   "cell_type": "code",
   "execution_count": null,
   "metadata": {},
   "outputs": [],
   "source": [
    "airline_df.isnull().sum()"
   ]
  },
  {
   "cell_type": "code",
   "execution_count": 2,
   "metadata": {},
   "outputs": [],
   "source": [
    "#twitter sentimentalysis\n",
    "import os"
   ]
  },
  {
   "cell_type": "code",
   "execution_count": null,
   "metadata": {},
   "outputs": [],
   "source": [
    "#!pip install tqdm"
   ]
  },
  {
   "cell_type": "code",
   "execution_count": 3,
   "metadata": {},
   "outputs": [],
   "source": [
    "#import required modules\n",
    "import tweepy \n",
    "from tqdm import tqdm\n",
    "import numpy as np\n",
    "import json\n",
    "import pandas as pd\n",
    "import seaborn as sns\n",
    "from matplotlib import pyplot as plt\n",
    "%matplotlib inline"
   ]
  },
  {
   "cell_type": "code",
   "execution_count": 7,
   "metadata": {},
   "outputs": [],
   "source": [
    "#extracting tweets\n",
    "auth = tweepy.OAuthHandler('w4MHTmdhKvrnCuMTMUYtAtL9G','hNBqASKuA6vMM30vHPRVI8xRAzyHiicdzxofXy9Xi56Ti21B6g')\n",
    "auth.set_access_token('1150039728894296064-eWlIbuLlhhSFt56mJIsFeBxh2Zxey9','x0xyIfNVWgut2n4zwlUz9jrxUNQMzL2082OsOe7NsdCuQ')\n",
    "api=tweepy.API(auth)\n",
    "username='sundaramshrik'\n",
    "tweets = tweepy.Cursor(api.user_timeline, screen_name=username, tweet_mode='extended').items()"
   ]
  },
  {
   "cell_type": "code",
   "execution_count": 8,
   "metadata": {
    "scrolled": true
   },
   "outputs": [
    {
     "name": "stderr",
     "output_type": "stream",
     "text": [
      "\n",
      "\n",
      "0it [00:00, ?it/s]\n",
      "\n",
      "1it [00:01,  1.07it/s]\n",
      "\n",
      "2it [00:01,  1.43it/s]\n",
      "\n",
      "3it [00:01,  1.85it/s]\n",
      "\n",
      "21it [00:02,  2.56it/s]\n",
      "\n",
      "22it [00:02,  3.21it/s]\n",
      "\n",
      "41it [00:02,  4.43it/s]\n",
      "\n",
      "61it [00:03,  5.91it/s]\n",
      "\n",
      "81it [00:04,  7.86it/s]\n",
      "\n",
      "84it [00:04,  9.94it/s]\n",
      "\n",
      "101it [00:04, 12.33it/s]\n",
      "\n",
      "121it [00:05, 15.32it/s]\n",
      "\n",
      "141it [00:05, 17.96it/s]\n",
      "\n",
      "144it [00:06, 19.73it/s]\n",
      "\n",
      "161it [00:06, 21.69it/s]\n",
      "\n",
      "181it [00:07, 24.00it/s]\n",
      "\n",
      "201it [00:07, 26.41it/s]\n",
      "\n",
      "205it [00:08, 27.87it/s]\n",
      "\n",
      "221it [00:08, 27.93it/s]\n",
      "\n",
      "241it [00:09, 30.19it/s]\n",
      "\n",
      "261it [00:09, 29.89it/s]\n",
      "\n",
      "281it [00:10, 31.76it/s]\n",
      "\n",
      "301it [00:10, 32.84it/s]\n",
      "\n",
      "321it [00:11, 32.37it/s]\n",
      "\n",
      "325it [00:11, 31.72it/s]\n",
      "\n",
      "341it [00:12, 31.01it/s]\n",
      "\n",
      "345it [00:12, 33.01it/s]\n",
      "\n",
      "361it [00:12, 30.55it/s]\n",
      "\n",
      "365it [00:13, 31.57it/s]\n",
      "\n",
      "381it [00:13, 30.95it/s]\n",
      "\n",
      "385it [00:13, 33.04it/s]\n",
      "\n",
      "401it [00:14, 32.16it/s]\n",
      "\n",
      "421it [00:14, 32.22it/s]\n",
      "\n",
      "425it [00:14, 33.79it/s]\n",
      "\n",
      "441it [00:15, 30.70it/s]\n",
      "\n",
      "461it [00:16, 30.04it/s]\n",
      "\n",
      "465it [00:16, 30.90it/s]\n",
      "\n",
      "481it [00:17, 29.93it/s]\n",
      "\n",
      "501it [00:17, 30.82it/s]\n",
      "\n",
      "505it [00:17, 30.53it/s]\n",
      "\n",
      "509it [00:17, 31.62it/s]\n",
      "\n",
      "521it [00:18, 24.41it/s]\n",
      "\n",
      "524it [00:18, 23.66it/s]\n",
      "\n",
      "541it [00:19, 22.65it/s]\n",
      "\n",
      "544it [00:19, 21.84it/s]\n",
      "\n",
      "561it [00:20, 23.83it/s]\n",
      "\n",
      "564it [00:20, 22.59it/s]\n",
      "\n",
      "581it [00:21, 24.33it/s]\n",
      "\n",
      "584it [00:21, 24.48it/s]\n",
      "\n",
      "601it [00:21, 26.09it/s]\n",
      "\n",
      "604it [00:21, 25.30it/s]\n",
      "\n",
      "621it [00:22, 26.43it/s]\n",
      "\n",
      "624it [00:22, 25.40it/s]\n",
      "\n",
      "641it [00:23, 27.27it/s]\n",
      "\n",
      "644it [00:23, 25.87it/s]\n",
      "\n",
      "661it [00:23, 27.60it/s]\n",
      "\n",
      "664it [00:23, 27.06it/s]\n",
      "\n",
      "681it [00:24, 29.22it/s]\n",
      "\n",
      "701it [00:24, 30.32it/s]\n",
      "\n",
      "705it [00:25, 30.74it/s]\n",
      "\n",
      "721it [00:25, 29.82it/s]\n",
      "\n",
      "741it [00:26, 30.61it/s]\n",
      "\n",
      "761it [00:26, 32.13it/s]\n",
      "\n",
      "781it [00:27, 32.85it/s]\n",
      "\n",
      "801it [00:27, 32.08it/s]\n",
      "\n",
      "805it [00:28, 33.85it/s]\n",
      "\n",
      "809it [00:28, 34.22it/s]\n",
      "\n",
      "821it [00:28, 30.05it/s]\n",
      "\n",
      "841it [00:29, 32.73it/s]\n",
      "\n",
      "861it [00:29, 33.56it/s]\n",
      "\n",
      "881it [00:30, 31.89it/s]\n",
      "\n",
      "901it [00:30, 33.14it/s]\n",
      "\n",
      "921it [00:31, 31.88it/s]\n",
      "\n",
      "925it [00:31, 32.31it/s]\n",
      "\n",
      "941it [00:32, 26.79it/s]\n",
      "\n",
      "961it [00:33, 28.99it/s]\n",
      "\n",
      "965it [00:33, 30.10it/s]\n",
      "\n",
      "981it [00:33, 29.55it/s]\n",
      "\n",
      "985it [00:33, 31.99it/s]\n",
      "\n",
      "1001it [00:34, 25.71it/s]\n",
      "\n",
      "1021it [00:35, 27.74it/s]\n",
      "\n",
      "1041it [00:35, 30.15it/s]\n",
      "\n",
      "1061it [00:36, 30.42it/s]\n",
      "\n",
      "1081it [00:37, 32.45it/s]\n",
      "\n",
      "1101it [00:37, 32.84it/s]\n",
      "\n",
      "1121it [00:38, 32.81it/s]\n",
      "\n",
      "1125it [00:38, 32.89it/s]\n",
      "\n",
      "1129it [00:38, 31.25it/s]\n",
      "\n",
      "1141it [00:39, 26.44it/s]\n",
      "\n",
      "1161it [00:39, 28.51it/s]\n",
      "\n",
      "1181it [00:40, 30.08it/s]\n",
      "\n",
      "1185it [00:40, 30.56it/s]\n",
      "\n",
      "1189it [00:40, 31.35it/s]\n",
      "\n",
      "1201it [00:41, 28.76it/s]\n",
      "\n",
      "1221it [00:41, 31.62it/s]\n",
      "\n",
      "1225it [00:41, 26.04it/s]\n",
      "\n",
      "1241it [00:42, 24.03it/s]\n",
      "\n",
      "1261it [00:43, 26.27it/s]\n",
      "\n",
      "1264it [00:43, 26.36it/s]\n",
      "\n",
      "1281it [00:43, 26.68it/s]\n",
      "\n",
      "1284it [00:44, 25.96it/s]\n",
      "\n",
      "1301it [00:44, 27.01it/s]\n",
      "\n",
      "1321it [00:45, 28.71it/s]\n",
      "\n",
      "1324it [00:45, 26.26it/s]\n",
      "\n",
      "1327it [00:45, 25.68it/s]\n",
      "\n",
      "1341it [00:46, 24.74it/s]\n",
      "\n",
      "1344it [00:46, 25.26it/s]\n",
      "\n",
      "1361it [00:46, 26.58it/s]\n",
      "\n",
      "1364it [00:46, 27.38it/s]\n",
      "\n",
      "1381it [00:47, 28.23it/s]\n",
      "\n",
      "1401it [00:48, 30.36it/s]\n",
      "\n",
      "1421it [00:48, 31.78it/s]\n",
      "\n",
      "1425it [00:48, 30.19it/s]\n",
      "\n",
      "1441it [00:49, 27.64it/s]\n",
      "\n",
      "1444it [00:49, 27.02it/s]\n",
      "\n",
      "1461it [00:50, 27.62it/s]\n",
      "\n",
      "1481it [00:50, 29.73it/s]\n",
      "\n",
      "1501it [00:51, 30.01it/s]\n",
      "\n",
      "1505it [00:51, 31.15it/s]\n",
      "\n",
      "1521it [00:52, 29.52it/s]\n",
      "\n",
      "1541it [00:52, 31.34it/s]\n",
      "\n",
      "1545it [00:52, 32.00it/s]\n",
      "\n",
      "1561it [00:53, 26.81it/s]\n",
      "\n",
      "1564it [00:53, 27.32it/s]\n",
      "\n",
      "1581it [00:54, 27.34it/s]\n",
      "\n",
      "1601it [00:54, 28.36it/s]\n",
      "\n",
      "1604it [00:54, 26.90it/s]\n",
      "\n",
      "1621it [00:55, 26.56it/s]\n",
      "\n",
      "1641it [00:56, 27.38it/s]\n",
      "\n",
      "1661it [00:56, 29.20it/s]\n",
      "\n",
      "1664it [00:57, 26.34it/s]\n",
      "\n",
      "1681it [00:57, 28.00it/s]\n",
      "\n",
      "1701it [00:58, 27.91it/s]\n",
      "\n",
      "1704it [00:58, 27.57it/s]\n",
      "\n",
      "1721it [00:59, 27.77it/s]\n",
      "\n",
      "1724it [00:59, 26.32it/s]\n",
      "\n",
      "1741it [00:59, 27.61it/s]\n",
      "\n",
      "1744it [00:59, 23.51it/s]\n",
      "\n",
      "1761it [01:00, 24.84it/s]\n",
      "\n",
      "1781it [01:01, 26.86it/s]\n",
      "\n",
      "1784it [01:01, 25.34it/s]\n",
      "\n",
      "1801it [01:01, 26.07it/s]\n",
      "\n",
      "1804it [01:01, 24.31it/s]\n",
      "\n",
      "1821it [01:02, 26.18it/s]\n",
      "\n",
      "1841it [01:03, 28.51it/s]\n",
      "\n",
      "1844it [01:03, 26.92it/s]\n",
      "\n",
      "1861it [01:03, 27.82it/s]\n",
      "\n",
      "1881it [01:04, 29.64it/s]\n",
      "\n",
      "1885it [01:04, 29.97it/s]\n",
      "\n",
      "1901it [01:04, 29.49it/s]\n",
      "\n",
      "1921it [01:05, 29.54it/s]\n",
      "\n",
      "1941it [01:06, 30.25it/s]\n",
      "\n",
      "1961it [01:06, 31.71it/s]\n",
      "\n",
      "1981it [01:07, 31.80it/s]\n",
      "\n",
      "1985it [01:07, 30.35it/s]\n",
      "\n",
      "1985it [01:18, 30.35it/s]\n",
      "\n",
      "2001it [02:40,  1.76s/it]\n",
      "\n",
      "2021it [03:16,  1.78s/it]\n",
      "\n",
      "2041it [04:10,  2.05s/it]\n",
      "\n",
      "2042it [04:10,  1.47s/it]\n",
      "\n",
      "2061it [05:08,  1.95s/it]\n",
      "\n",
      "2081it [06:29,  2.58s/it]\n",
      "\n",
      "2082it [06:29,  1.84s/it]\n",
      "\n",
      "2083it [06:29,  1.33s/it]\n",
      "\n",
      "2101it [07:26,  1.88s/it]\n",
      "\n",
      "2121it [08:29,  2.26s/it]\n",
      "\n",
      "2141it [09:35,  2.58s/it]\n",
      "\n",
      "2142it [09:36,  1.85s/it]\n",
      "\n",
      "2161it [10:35,  2.23s/it]\n",
      "\n",
      "2181it [11:44,  2.59s/it]\n",
      "\n",
      "2201it [12:48,  2.78s/it]\n",
      "\n",
      "2221it [13:15,  2.35s/it]\n",
      "\n",
      "2241it [13:16,  1.66s/it]\n",
      "\n",
      "2261it [13:16,  1.17s/it]\n",
      "\n",
      "2281it [13:17,  1.21it/s]\n",
      "\n",
      "2301it [13:18,  1.68it/s]\n",
      "\n",
      "2321it [13:19,  2.35it/s]\n",
      "\n",
      "2341it [13:19,  3.25it/s]\n",
      "\n",
      "2361it [13:20,  4.42it/s]\n",
      "\n",
      "2381it [13:21,  5.98it/s]\n",
      "\n",
      "2401it [13:21,  7.90it/s]\n",
      "\n",
      "2404it [13:21,  9.74it/s]\n",
      "\n",
      "2407it [13:22, 12.08it/s]\n",
      "\n",
      "2421it [13:22, 14.09it/s]\n",
      "\n",
      "2441it [13:23, 16.55it/s]\n",
      "\n",
      "2461it [13:24, 19.24it/s]\n",
      "\n",
      "2481it [13:24, 21.75it/s]\n",
      "\n",
      "2501it [13:25, 24.66it/s]\n",
      "\n",
      "2521it [13:25, 26.80it/s]\n",
      "\n",
      "2525it [13:25, 28.17it/s]\n",
      "\n",
      "2541it [13:26, 28.46it/s]\n",
      "\n",
      "2561it [13:27, 29.59it/s]\n",
      "\n",
      "2565it [13:27, 31.20it/s]\n",
      "\n",
      "2581it [13:27, 29.36it/s]\n",
      "\n",
      "2585it [13:28, 25.95it/s]\n",
      "\n",
      "2601it [13:28, 27.00it/s]\n",
      "\n",
      "2604it [13:28, 26.17it/s]\n",
      "\n",
      "2621it [13:29, 27.49it/s]\n",
      "\n",
      "2641it [13:29, 28.93it/s]\n",
      "\n",
      "2644it [13:29, 27.63it/s]\n",
      "\n",
      "2661it [13:30, 29.43it/s]\n",
      "\n",
      "2665it [13:30, 30.58it/s]\n",
      "\n",
      "2681it [13:31, 27.38it/s]\n",
      "\n",
      "2684it [13:31, 25.87it/s]\n",
      "\n",
      "2701it [13:32, 26.33it/s]\n",
      "\n",
      "2704it [13:32, 27.19it/s]\n",
      "\n",
      "2721it [13:32, 27.51it/s]\n",
      "\n",
      "2724it [13:32, 26.09it/s]\n",
      "\n",
      "2741it [13:33, 26.89it/s]\n",
      "\n",
      "2761it [13:34, 27.42it/s]\n",
      "\n",
      "2781it [13:34, 27.42it/s]\n",
      "\n",
      "2784it [13:35, 25.50it/s]\n",
      "\n",
      "2801it [13:35, 25.96it/s]\n",
      "\n",
      "2821it [13:36, 26.49it/s]\n",
      "\n",
      "2841it [13:37, 28.12it/s]\n",
      "\n",
      "2844it [13:37, 26.12it/s]\n",
      "\n",
      "2861it [13:37, 25.59it/s]\n",
      "\n",
      "2881it [13:38, 27.82it/s]\n",
      "\n",
      "2884it [13:38, 25.48it/s]\n",
      "\n",
      "2901it [13:39, 24.79it/s]\n",
      "\n",
      "2920it [13:39, 26.68it/s]\n",
      "\n",
      "2923it [13:39, 26.50it/s]\n",
      "\n",
      "2940it [13:40, 27.21it/s]\n",
      "\n",
      "2960it [13:41, 29.07it/s]\n",
      "\n",
      "2980it [13:41, 30.24it/s]\n",
      "\n",
      "3000it [13:42, 26.05it/s]\n",
      "\n",
      "3020it [13:43, 27.00it/s]\n",
      "\n",
      "3040it [13:44, 28.14it/s]\n",
      "\n",
      "3060it [13:44, 27.21it/s]\n",
      "\n",
      "3063it [13:44, 26.65it/s]\n",
      "\n",
      "3080it [13:45, 23.99it/s]\n",
      "\n",
      "3083it [13:45, 23.17it/s]\n",
      "\n",
      "3100it [13:46, 24.63it/s]\n",
      "\n",
      "3103it [13:46, 24.87it/s]\n",
      "\n",
      "3120it [13:47, 26.09it/s]\n",
      "\n",
      "3140it [13:47, 28.41it/s]\n",
      "\n",
      "3160it [13:48, 28.92it/s]\n",
      "\n",
      "3163it [13:48, 25.64it/s]\n",
      "\n",
      "3166it [13:48, 26.74it/s]\n",
      "\n",
      "3180it [13:49, 24.28it/s]\n",
      "\n",
      "3183it [13:49, 24.99it/s]\n",
      "\n",
      "3200it [13:50, 26.98it/s]\n",
      "\n",
      "3203it [13:50, 26.43it/s]\n",
      "\n",
      "3213it [13:50,  3.87it/s]"
     ]
    }
   ],
   "source": [
    "## Create dictionaries list\n",
    "tweet_dict_list = [] #empty list\n",
    "for t in tqdm(tweets):\n",
    "    d={}\n",
    "    d['created_at'] = t.created_at\n",
    "    d['favorite_count'] = t.favorite_count\n",
    "    d['retweet_count'] = t.retweet_count\n",
    "    d['full_text'] = t.full_text\n",
    "    d['screen_name'] = t.user.screen_name\n",
    "    \n",
    "    tweet_dict_list.append(d)"
   ]
  },
  {
   "cell_type": "code",
   "execution_count": 15,
   "metadata": {},
   "outputs": [
    {
     "data": {
      "text/plain": [
       "{'created_at': datetime.datetime(2019, 6, 10, 12, 35, 15),\n",
       " 'favorite_count': 0,\n",
       " 'retweet_count': 274,\n",
       " 'full_text': 'RT @Rainmaker1973: This is what happens when you kick a ball towards a very powerful storm [storm Eleanor, Ireland, January 2018] https://t…',\n",
       " 'screen_name': 'sundaramshrik'}"
      ]
     },
     "execution_count": 15,
     "metadata": {},
     "output_type": "execute_result"
    }
   ],
   "source": [
    "tweet_dict_list[2000]"
   ]
  },
  {
   "cell_type": "code",
   "execution_count": 16,
   "metadata": {},
   "outputs": [],
   "source": [
    "## Engineering Virality Measure\n",
    "full_tweets = [] ## empty list\n",
    "for item in tweet_dict_list:\n",
    "    full_tweets.append(item['full_text'].lower().replace('\\n',' ')) #\n",
    "    item['virality'] = item['favorite_count']+10*item['retweet_count']"
   ]
  },
  {
   "cell_type": "code",
   "execution_count": 17,
   "metadata": {},
   "outputs": [],
   "source": [
    "##cleanup tweet\n",
    "cleaned_tweets = []\n",
    "for tweet in full_tweets:\n",
    "    storage = []\n",
    "    for word in tweet.split():\n",
    "        if len(word) <3:\n",
    "            continue\n",
    "        if '@' in word:\n",
    "            continue\n",
    "        if 'https://' in word:\n",
    "            continue\n",
    "        storage.append(word)\n",
    "    cleaned_tweets.append(' '.join(storage))\n",
    "    \n",
    "for i, tweet in enumerate(tweet_dict_list):\n",
    "    tweet['cleaned_text'] = cleaned_tweets[i]  "
   ]
  },
  {
   "cell_type": "code",
   "execution_count": 19,
   "metadata": {},
   "outputs": [],
   "source": [
    "df_tweets = pd.DataFrame.from_dict(tweet_dict_list)"
   ]
  },
  {
   "cell_type": "code",
   "execution_count": 20,
   "metadata": {},
   "outputs": [],
   "source": [
    "df_tweets['Hours'] = df_tweets.created_at.apply(lambda x: x.hour)\n",
    "df_tweets['Day_name'] = df_tweets.created_at.dt.day_name()"
   ]
  },
  {
   "cell_type": "code",
   "execution_count": 21,
   "metadata": {},
   "outputs": [
    {
     "data": {
      "text/plain": [
       "Text(0.5, 0, 'Date')"
      ]
     },
     "execution_count": 21,
     "metadata": {},
     "output_type": "execute_result"
    },
    {
     "data": {
      "image/png": "[encoded data removed]",
      "text/plain": [
       "<Figure size 1080x360 with 2 Axes>"
      ]
     },
     "metadata": {
      "needs_background": "light"
     },
     "output_type": "display_data"
    }
   ],
   "source": [
    "# Data Visualization\n",
    "fig, ax=plt.subplots(1,2)\n",
    "df_tweets.created_at.dt.weekday_name.value_counts().nlargest(10).plot(kind='bar',figsize=(15,5),ax=fig.axes[0])\n",
    "ax[0].set_title('Maximum usage days')\n",
    "ax[0].set_ylabel('Number of Tweets')\n",
    "ax[0].set_xlabel('Date')\n",
    "\n",
    "df_tweets.created_at.dt.hour.value_counts().nlargest(10).plot(kind='bar',figsize=(15,5),ax=fig.axes[1])\n",
    "plt.title('Maximum usage days')\n",
    "plt.ylabel('Number of Tweets')\n",
    "plt.xlabel('Date')"
   ]
  },
  {
   "cell_type": "code",
   "execution_count": 30,
   "metadata": {},
   "outputs": [
    {
     "name": "stdout",
     "output_type": "stream",
     "text": [
      "Collecting plotly\n",
      "  Downloading https://files.pythonhosted.org/packages/58/f3/a49d3281cc7275164ecf89ad3497556b11d9661faa119becdf7f9d3b2125/plotly-4.0.0-py2.py3-none-any.whl (6.8MB)\n",
      "Collecting retrying>=1.3.3 (from plotly)\n",
      "  Downloading https://files.pythonhosted.org/packages/44/ef/beae4b4ef80902f22e3af073397f079c96969c69b2c7d52a57ea9ae61c9d/retrying-1.3.3.tar.gz\n",
      "Requirement already satisfied: six in d:\\shrikant\\application\\anaconda\\lib\\site-packages (from plotly) (1.12.0)\n",
      "Building wheels for collected packages: retrying\n",
      "  Running setup.py bdist_wheel for retrying: started\n",
      "  Running setup.py bdist_wheel for retrying: finished with status 'done'\n",
      "  Stored in directory: C:\\Users\\shrikant\\AppData\\Local\\pip\\Cache\\wheels\\d7\\a9\\33\\acc7b709e2a35caa7d4cae442f6fe6fbf2c43f80823d46460c\n",
      "Successfully built retrying\n",
      "Installing collected packages: retrying, plotly\n",
      "Successfully installed plotly-4.0.0 retrying-1.3.3\n"
     ]
    }
   ],
   "source": [
    "#!pip install plotly"
   ]
  },
  {
   "cell_type": "code",
   "execution_count": 34,
   "metadata": {},
   "outputs": [
    {
     "name": "stdout",
     "output_type": "stream",
     "text": [
      "Collecting chart-studio\n",
      "  Downloading https://files.pythonhosted.org/packages/b9/3f/d2f3f506ba1aaf109f549f8b01d1483cd3e324c5ebe6b206acee66efdf46/chart_studio-1.0.0-py3-none-any.whl (76kB)\n",
      "Requirement already satisfied: plotly in d:\\shrikant\\application\\anaconda\\lib\\site-packages (from chart-studio) (4.0.0)\n",
      "Requirement already satisfied: requests in d:\\shrikant\\application\\anaconda\\lib\\site-packages (from chart-studio) (2.21.0)\n",
      "Requirement already satisfied: retrying>=1.3.3 in d:\\shrikant\\application\\anaconda\\lib\\site-packages (from chart-studio) (1.3.3)\n",
      "Requirement already satisfied: six in d:\\shrikant\\application\\anaconda\\lib\\site-packages (from chart-studio) (1.12.0)\n",
      "Requirement already satisfied: idna<2.9,>=2.5 in d:\\shrikant\\application\\anaconda\\lib\\site-packages (from requests->chart-studio) (2.8)\n",
      "Requirement already satisfied: certifi>=2017.4.17 in d:\\shrikant\\application\\anaconda\\lib\\site-packages (from requests->chart-studio) (2018.11.29)\n",
      "Requirement already satisfied: chardet<3.1.0,>=3.0.2 in d:\\shrikant\\application\\anaconda\\lib\\site-packages (from requests->chart-studio) (3.0.4)\n",
      "Requirement already satisfied: urllib3<1.25,>=1.21.1 in d:\\shrikant\\application\\anaconda\\lib\\site-packages (from requests->chart-studio) (1.24.1)\n",
      "Installing collected packages: chart-studio\n",
      "Successfully installed chart-studio-1.0.0\n"
     ]
    }
   ],
   "source": [
    "#!pip install chart-studio"
   ]
  },
  {
   "cell_type": "code",
   "execution_count": 49,
   "metadata": {},
   "outputs": [
    {
     "ename": "PlotlyRequestError",
     "evalue": "Authentication credentials were not provided.",
     "output_type": "error",
     "traceback": [
      "\u001b[1;31m---------------------------------------------------------------------------\u001b[0m",
      "\u001b[1;31mPlotlyRequestError\u001b[0m                        Traceback (most recent call last)",
      "\u001b[1;32m<ipython-input-49-c045256ebd59>\u001b[0m in \u001b[0;36m<module>\u001b[1;34m\u001b[0m\n\u001b[0;32m     29\u001b[0m \u001b[0mdata\u001b[0m \u001b[1;33m=\u001b[0m \u001b[1;33m[\u001b[0m\u001b[0mtrace\u001b[0m\u001b[1;33m]\u001b[0m\u001b[1;33m\u001b[0m\u001b[1;33m\u001b[0m\u001b[0m\n\u001b[0;32m     30\u001b[0m \u001b[0mfig\u001b[0m \u001b[1;33m=\u001b[0m \u001b[0mgo\u001b[0m\u001b[1;33m.\u001b[0m\u001b[0mFigure\u001b[0m\u001b[1;33m(\u001b[0m\u001b[0mdata\u001b[0m\u001b[1;33m=\u001b[0m\u001b[0mdata\u001b[0m\u001b[1;33m,\u001b[0m \u001b[0mlayout\u001b[0m\u001b[1;33m=\u001b[0m\u001b[0mlayout\u001b[0m\u001b[1;33m)\u001b[0m\u001b[1;33m\u001b[0m\u001b[1;33m\u001b[0m\u001b[0m\n\u001b[1;32m---> 31\u001b[1;33m \u001b[0mpy\u001b[0m\u001b[1;33m.\u001b[0m\u001b[0miplot\u001b[0m\u001b[1;33m(\u001b[0m\u001b[0mfig\u001b[0m\u001b[1;33m)\u001b[0m\u001b[1;33m\u001b[0m\u001b[1;33m\u001b[0m\u001b[0m\n\u001b[0m",
      "\u001b[1;32mD:\\shrikant\\Application\\anaconda\\lib\\site-packages\\chart_studio\\plotly\\plotly.py\u001b[0m in \u001b[0;36miplot\u001b[1;34m(figure_or_data, **plot_options)\u001b[0m\n\u001b[0;32m    133\u001b[0m     \u001b[1;32mif\u001b[0m \u001b[1;34m\"auto_open\"\u001b[0m \u001b[1;32mnot\u001b[0m \u001b[1;32min\u001b[0m \u001b[0mplot_options\u001b[0m\u001b[1;33m:\u001b[0m\u001b[1;33m\u001b[0m\u001b[1;33m\u001b[0m\u001b[0m\n\u001b[0;32m    134\u001b[0m         \u001b[0mplot_options\u001b[0m\u001b[1;33m[\u001b[0m\u001b[1;34m\"auto_open\"\u001b[0m\u001b[1;33m]\u001b[0m \u001b[1;33m=\u001b[0m \u001b[1;32mFalse\u001b[0m\u001b[1;33m\u001b[0m\u001b[1;33m\u001b[0m\u001b[0m\n\u001b[1;32m--> 135\u001b[1;33m     \u001b[0murl\u001b[0m \u001b[1;33m=\u001b[0m \u001b[0mplot\u001b[0m\u001b[1;33m(\u001b[0m\u001b[0mfigure_or_data\u001b[0m\u001b[1;33m,\u001b[0m \u001b[1;33m**\u001b[0m\u001b[0mplot_options\u001b[0m\u001b[1;33m)\u001b[0m\u001b[1;33m\u001b[0m\u001b[1;33m\u001b[0m\u001b[0m\n\u001b[0m\u001b[0;32m    136\u001b[0m \u001b[1;33m\u001b[0m\u001b[0m\n\u001b[0;32m    137\u001b[0m     \u001b[1;32mif\u001b[0m \u001b[0misinstance\u001b[0m\u001b[1;33m(\u001b[0m\u001b[0mfigure_or_data\u001b[0m\u001b[1;33m,\u001b[0m \u001b[0mdict\u001b[0m\u001b[1;33m)\u001b[0m\u001b[1;33m:\u001b[0m\u001b[1;33m\u001b[0m\u001b[1;33m\u001b[0m\u001b[0m\n",
      "\u001b[1;32mD:\\shrikant\\Application\\anaconda\\lib\\site-packages\\chart_studio\\plotly\\plotly.py\u001b[0m in \u001b[0;36mplot\u001b[1;34m(figure_or_data, validate, **plot_options)\u001b[0m\n\u001b[0;32m    278\u001b[0m             \u001b[0mfilename\u001b[0m\u001b[1;33m=\u001b[0m\u001b[0mgrid_filename\u001b[0m\u001b[1;33m,\u001b[0m\u001b[1;33m\u001b[0m\u001b[1;33m\u001b[0m\u001b[0m\n\u001b[0;32m    279\u001b[0m             \u001b[0mworld_readable\u001b[0m\u001b[1;33m=\u001b[0m\u001b[0mpayload\u001b[0m\u001b[1;33m[\u001b[0m\u001b[1;34m\"world_readable\"\u001b[0m\u001b[1;33m]\u001b[0m\u001b[1;33m,\u001b[0m\u001b[1;33m\u001b[0m\u001b[1;33m\u001b[0m\u001b[0m\n\u001b[1;32m--> 280\u001b[1;33m             \u001b[0mauto_open\u001b[0m\u001b[1;33m=\u001b[0m\u001b[1;32mFalse\u001b[0m\u001b[1;33m,\u001b[0m\u001b[1;33m\u001b[0m\u001b[1;33m\u001b[0m\u001b[0m\n\u001b[0m\u001b[0;32m    281\u001b[0m         )\n\u001b[0;32m    282\u001b[0m \u001b[1;33m\u001b[0m\u001b[0m\n",
      "\u001b[1;32mD:\\shrikant\\Application\\anaconda\\lib\\site-packages\\chart_studio\\plotly\\plotly.py\u001b[0m in \u001b[0;36mupload\u001b[1;34m(cls, grid, filename, world_readable, auto_open, meta)\u001b[0m\n\u001b[0;32m   1085\u001b[0m                 \u001b[0mpayload\u001b[0m\u001b[1;33m[\u001b[0m\u001b[1;34m\"parent_path\"\u001b[0m\u001b[1;33m]\u001b[0m \u001b[1;33m=\u001b[0m \u001b[0mparent_path\u001b[0m\u001b[1;33m\u001b[0m\u001b[1;33m\u001b[0m\u001b[0m\n\u001b[0;32m   1086\u001b[0m \u001b[1;33m\u001b[0m\u001b[0m\n\u001b[1;32m-> 1087\u001b[1;33m         \u001b[0mfile_info\u001b[0m \u001b[1;33m=\u001b[0m \u001b[0m_create_or_overwrite_grid\u001b[0m\u001b[1;33m(\u001b[0m\u001b[0mpayload\u001b[0m\u001b[1;33m)\u001b[0m\u001b[1;33m\u001b[0m\u001b[1;33m\u001b[0m\u001b[0m\n\u001b[0m\u001b[0;32m   1088\u001b[0m \u001b[1;33m\u001b[0m\u001b[0m\n\u001b[0;32m   1089\u001b[0m         \u001b[0mcols\u001b[0m \u001b[1;33m=\u001b[0m \u001b[0mfile_info\u001b[0m\u001b[1;33m[\u001b[0m\u001b[1;34m\"cols\"\u001b[0m\u001b[1;33m]\u001b[0m\u001b[1;33m\u001b[0m\u001b[1;33m\u001b[0m\u001b[0m\n",
      "\u001b[1;32mD:\\shrikant\\Application\\anaconda\\lib\\site-packages\\chart_studio\\plotly\\plotly.py\u001b[0m in \u001b[0;36m_create_or_overwrite_grid\u001b[1;34m(data, max_retries)\u001b[0m\n\u001b[0;32m   1548\u001b[0m     \u001b[1;31m# Create file\u001b[0m\u001b[1;33m\u001b[0m\u001b[1;33m\u001b[0m\u001b[1;33m\u001b[0m\u001b[0m\n\u001b[0;32m   1549\u001b[0m     \u001b[1;32mtry\u001b[0m\u001b[1;33m:\u001b[0m\u001b[1;33m\u001b[0m\u001b[1;33m\u001b[0m\u001b[0m\n\u001b[1;32m-> 1550\u001b[1;33m         \u001b[0mres\u001b[0m \u001b[1;33m=\u001b[0m \u001b[0mapi_module\u001b[0m\u001b[1;33m.\u001b[0m\u001b[0mcreate\u001b[0m\u001b[1;33m(\u001b[0m\u001b[0mdata\u001b[0m\u001b[1;33m)\u001b[0m\u001b[1;33m\u001b[0m\u001b[1;33m\u001b[0m\u001b[0m\n\u001b[0m\u001b[0;32m   1551\u001b[0m     \u001b[1;32mexcept\u001b[0m \u001b[0mexceptions\u001b[0m\u001b[1;33m.\u001b[0m\u001b[0mPlotlyRequestError\u001b[0m \u001b[1;32mas\u001b[0m \u001b[0me\u001b[0m\u001b[1;33m:\u001b[0m\u001b[1;33m\u001b[0m\u001b[1;33m\u001b[0m\u001b[0m\n\u001b[0;32m   1552\u001b[0m         \u001b[1;32mif\u001b[0m \u001b[0mmax_retries\u001b[0m \u001b[1;33m>\u001b[0m \u001b[1;36m0\u001b[0m \u001b[1;32mand\u001b[0m \u001b[1;34m\"already exists\"\u001b[0m \u001b[1;32min\u001b[0m \u001b[0me\u001b[0m\u001b[1;33m.\u001b[0m\u001b[0mmessage\u001b[0m\u001b[1;33m:\u001b[0m\u001b[1;33m\u001b[0m\u001b[1;33m\u001b[0m\u001b[0m\n",
      "\u001b[1;32mD:\\shrikant\\Application\\anaconda\\lib\\site-packages\\chart_studio\\api\\v2\\grids.py\u001b[0m in \u001b[0;36mcreate\u001b[1;34m(body)\u001b[0m\n\u001b[0;32m     16\u001b[0m     \"\"\"\n\u001b[0;32m     17\u001b[0m     \u001b[0murl\u001b[0m \u001b[1;33m=\u001b[0m \u001b[0mbuild_url\u001b[0m\u001b[1;33m(\u001b[0m\u001b[0mRESOURCE\u001b[0m\u001b[1;33m)\u001b[0m\u001b[1;33m\u001b[0m\u001b[1;33m\u001b[0m\u001b[0m\n\u001b[1;32m---> 18\u001b[1;33m     \u001b[1;32mreturn\u001b[0m \u001b[0mrequest\u001b[0m\u001b[1;33m(\u001b[0m\u001b[1;34m\"post\"\u001b[0m\u001b[1;33m,\u001b[0m \u001b[0murl\u001b[0m\u001b[1;33m,\u001b[0m \u001b[0mjson\u001b[0m\u001b[1;33m=\u001b[0m\u001b[0mbody\u001b[0m\u001b[1;33m)\u001b[0m\u001b[1;33m\u001b[0m\u001b[1;33m\u001b[0m\u001b[0m\n\u001b[0m\u001b[0;32m     19\u001b[0m \u001b[1;33m\u001b[0m\u001b[0m\n\u001b[0;32m     20\u001b[0m \u001b[1;33m\u001b[0m\u001b[0m\n",
      "\u001b[1;32mD:\\shrikant\\Application\\anaconda\\lib\\site-packages\\retrying.py\u001b[0m in \u001b[0;36mwrapped_f\u001b[1;34m(*args, **kw)\u001b[0m\n\u001b[0;32m     47\u001b[0m             \u001b[1;33m@\u001b[0m\u001b[0msix\u001b[0m\u001b[1;33m.\u001b[0m\u001b[0mwraps\u001b[0m\u001b[1;33m(\u001b[0m\u001b[0mf\u001b[0m\u001b[1;33m)\u001b[0m\u001b[1;33m\u001b[0m\u001b[1;33m\u001b[0m\u001b[0m\n\u001b[0;32m     48\u001b[0m             \u001b[1;32mdef\u001b[0m \u001b[0mwrapped_f\u001b[0m\u001b[1;33m(\u001b[0m\u001b[1;33m*\u001b[0m\u001b[0margs\u001b[0m\u001b[1;33m,\u001b[0m \u001b[1;33m**\u001b[0m\u001b[0mkw\u001b[0m\u001b[1;33m)\u001b[0m\u001b[1;33m:\u001b[0m\u001b[1;33m\u001b[0m\u001b[1;33m\u001b[0m\u001b[0m\n\u001b[1;32m---> 49\u001b[1;33m                 \u001b[1;32mreturn\u001b[0m \u001b[0mRetrying\u001b[0m\u001b[1;33m(\u001b[0m\u001b[1;33m*\u001b[0m\u001b[0mdargs\u001b[0m\u001b[1;33m,\u001b[0m \u001b[1;33m**\u001b[0m\u001b[0mdkw\u001b[0m\u001b[1;33m)\u001b[0m\u001b[1;33m.\u001b[0m\u001b[0mcall\u001b[0m\u001b[1;33m(\u001b[0m\u001b[0mf\u001b[0m\u001b[1;33m,\u001b[0m \u001b[1;33m*\u001b[0m\u001b[0margs\u001b[0m\u001b[1;33m,\u001b[0m \u001b[1;33m**\u001b[0m\u001b[0mkw\u001b[0m\u001b[1;33m)\u001b[0m\u001b[1;33m\u001b[0m\u001b[1;33m\u001b[0m\u001b[0m\n\u001b[0m\u001b[0;32m     50\u001b[0m \u001b[1;33m\u001b[0m\u001b[0m\n\u001b[0;32m     51\u001b[0m             \u001b[1;32mreturn\u001b[0m \u001b[0mwrapped_f\u001b[0m\u001b[1;33m\u001b[0m\u001b[1;33m\u001b[0m\u001b[0m\n",
      "\u001b[1;32mD:\\shrikant\\Application\\anaconda\\lib\\site-packages\\retrying.py\u001b[0m in \u001b[0;36mcall\u001b[1;34m(self, fn, *args, **kwargs)\u001b[0m\n\u001b[0;32m    204\u001b[0m \u001b[1;33m\u001b[0m\u001b[0m\n\u001b[0;32m    205\u001b[0m             \u001b[1;32mif\u001b[0m \u001b[1;32mnot\u001b[0m \u001b[0mself\u001b[0m\u001b[1;33m.\u001b[0m\u001b[0mshould_reject\u001b[0m\u001b[1;33m(\u001b[0m\u001b[0mattempt\u001b[0m\u001b[1;33m)\u001b[0m\u001b[1;33m:\u001b[0m\u001b[1;33m\u001b[0m\u001b[1;33m\u001b[0m\u001b[0m\n\u001b[1;32m--> 206\u001b[1;33m                 \u001b[1;32mreturn\u001b[0m \u001b[0mattempt\u001b[0m\u001b[1;33m.\u001b[0m\u001b[0mget\u001b[0m\u001b[1;33m(\u001b[0m\u001b[0mself\u001b[0m\u001b[1;33m.\u001b[0m\u001b[0m_wrap_exception\u001b[0m\u001b[1;33m)\u001b[0m\u001b[1;33m\u001b[0m\u001b[1;33m\u001b[0m\u001b[0m\n\u001b[0m\u001b[0;32m    207\u001b[0m \u001b[1;33m\u001b[0m\u001b[0m\n\u001b[0;32m    208\u001b[0m             \u001b[0mdelay_since_first_attempt_ms\u001b[0m \u001b[1;33m=\u001b[0m \u001b[0mint\u001b[0m\u001b[1;33m(\u001b[0m\u001b[0mround\u001b[0m\u001b[1;33m(\u001b[0m\u001b[0mtime\u001b[0m\u001b[1;33m.\u001b[0m\u001b[0mtime\u001b[0m\u001b[1;33m(\u001b[0m\u001b[1;33m)\u001b[0m \u001b[1;33m*\u001b[0m \u001b[1;36m1000\u001b[0m\u001b[1;33m)\u001b[0m\u001b[1;33m)\u001b[0m \u001b[1;33m-\u001b[0m \u001b[0mstart_time\u001b[0m\u001b[1;33m\u001b[0m\u001b[1;33m\u001b[0m\u001b[0m\n",
      "\u001b[1;32mD:\\shrikant\\Application\\anaconda\\lib\\site-packages\\retrying.py\u001b[0m in \u001b[0;36mget\u001b[1;34m(self, wrap_exception)\u001b[0m\n\u001b[0;32m    245\u001b[0m                 \u001b[1;32mraise\u001b[0m \u001b[0mRetryError\u001b[0m\u001b[1;33m(\u001b[0m\u001b[0mself\u001b[0m\u001b[1;33m)\u001b[0m\u001b[1;33m\u001b[0m\u001b[1;33m\u001b[0m\u001b[0m\n\u001b[0;32m    246\u001b[0m             \u001b[1;32melse\u001b[0m\u001b[1;33m:\u001b[0m\u001b[1;33m\u001b[0m\u001b[1;33m\u001b[0m\u001b[0m\n\u001b[1;32m--> 247\u001b[1;33m                 \u001b[0msix\u001b[0m\u001b[1;33m.\u001b[0m\u001b[0mreraise\u001b[0m\u001b[1;33m(\u001b[0m\u001b[0mself\u001b[0m\u001b[1;33m.\u001b[0m\u001b[0mvalue\u001b[0m\u001b[1;33m[\u001b[0m\u001b[1;36m0\u001b[0m\u001b[1;33m]\u001b[0m\u001b[1;33m,\u001b[0m \u001b[0mself\u001b[0m\u001b[1;33m.\u001b[0m\u001b[0mvalue\u001b[0m\u001b[1;33m[\u001b[0m\u001b[1;36m1\u001b[0m\u001b[1;33m]\u001b[0m\u001b[1;33m,\u001b[0m \u001b[0mself\u001b[0m\u001b[1;33m.\u001b[0m\u001b[0mvalue\u001b[0m\u001b[1;33m[\u001b[0m\u001b[1;36m2\u001b[0m\u001b[1;33m]\u001b[0m\u001b[1;33m)\u001b[0m\u001b[1;33m\u001b[0m\u001b[1;33m\u001b[0m\u001b[0m\n\u001b[0m\u001b[0;32m    248\u001b[0m         \u001b[1;32melse\u001b[0m\u001b[1;33m:\u001b[0m\u001b[1;33m\u001b[0m\u001b[1;33m\u001b[0m\u001b[0m\n\u001b[0;32m    249\u001b[0m             \u001b[1;32mreturn\u001b[0m \u001b[0mself\u001b[0m\u001b[1;33m.\u001b[0m\u001b[0mvalue\u001b[0m\u001b[1;33m\u001b[0m\u001b[1;33m\u001b[0m\u001b[0m\n",
      "\u001b[1;32mD:\\shrikant\\Application\\anaconda\\lib\\site-packages\\six.py\u001b[0m in \u001b[0;36mreraise\u001b[1;34m(tp, value, tb)\u001b[0m\n\u001b[0;32m    691\u001b[0m             \u001b[1;32mif\u001b[0m \u001b[0mvalue\u001b[0m\u001b[1;33m.\u001b[0m\u001b[0m__traceback__\u001b[0m \u001b[1;32mis\u001b[0m \u001b[1;32mnot\u001b[0m \u001b[0mtb\u001b[0m\u001b[1;33m:\u001b[0m\u001b[1;33m\u001b[0m\u001b[1;33m\u001b[0m\u001b[0m\n\u001b[0;32m    692\u001b[0m                 \u001b[1;32mraise\u001b[0m \u001b[0mvalue\u001b[0m\u001b[1;33m.\u001b[0m\u001b[0mwith_traceback\u001b[0m\u001b[1;33m(\u001b[0m\u001b[0mtb\u001b[0m\u001b[1;33m)\u001b[0m\u001b[1;33m\u001b[0m\u001b[1;33m\u001b[0m\u001b[0m\n\u001b[1;32m--> 693\u001b[1;33m             \u001b[1;32mraise\u001b[0m \u001b[0mvalue\u001b[0m\u001b[1;33m\u001b[0m\u001b[1;33m\u001b[0m\u001b[0m\n\u001b[0m\u001b[0;32m    694\u001b[0m         \u001b[1;32mfinally\u001b[0m\u001b[1;33m:\u001b[0m\u001b[1;33m\u001b[0m\u001b[1;33m\u001b[0m\u001b[0m\n\u001b[0;32m    695\u001b[0m             \u001b[0mvalue\u001b[0m \u001b[1;33m=\u001b[0m \u001b[1;32mNone\u001b[0m\u001b[1;33m\u001b[0m\u001b[1;33m\u001b[0m\u001b[0m\n",
      "\u001b[1;32mD:\\shrikant\\Application\\anaconda\\lib\\site-packages\\retrying.py\u001b[0m in \u001b[0;36mcall\u001b[1;34m(self, fn, *args, **kwargs)\u001b[0m\n\u001b[0;32m    198\u001b[0m         \u001b[1;32mwhile\u001b[0m \u001b[1;32mTrue\u001b[0m\u001b[1;33m:\u001b[0m\u001b[1;33m\u001b[0m\u001b[1;33m\u001b[0m\u001b[0m\n\u001b[0;32m    199\u001b[0m             \u001b[1;32mtry\u001b[0m\u001b[1;33m:\u001b[0m\u001b[1;33m\u001b[0m\u001b[1;33m\u001b[0m\u001b[0m\n\u001b[1;32m--> 200\u001b[1;33m                 \u001b[0mattempt\u001b[0m \u001b[1;33m=\u001b[0m \u001b[0mAttempt\u001b[0m\u001b[1;33m(\u001b[0m\u001b[0mfn\u001b[0m\u001b[1;33m(\u001b[0m\u001b[1;33m*\u001b[0m\u001b[0margs\u001b[0m\u001b[1;33m,\u001b[0m \u001b[1;33m**\u001b[0m\u001b[0mkwargs\u001b[0m\u001b[1;33m)\u001b[0m\u001b[1;33m,\u001b[0m \u001b[0mattempt_number\u001b[0m\u001b[1;33m,\u001b[0m \u001b[1;32mFalse\u001b[0m\u001b[1;33m)\u001b[0m\u001b[1;33m\u001b[0m\u001b[1;33m\u001b[0m\u001b[0m\n\u001b[0m\u001b[0;32m    201\u001b[0m             \u001b[1;32mexcept\u001b[0m\u001b[1;33m:\u001b[0m\u001b[1;33m\u001b[0m\u001b[1;33m\u001b[0m\u001b[0m\n\u001b[0;32m    202\u001b[0m                 \u001b[0mtb\u001b[0m \u001b[1;33m=\u001b[0m \u001b[0msys\u001b[0m\u001b[1;33m.\u001b[0m\u001b[0mexc_info\u001b[0m\u001b[1;33m(\u001b[0m\u001b[1;33m)\u001b[0m\u001b[1;33m\u001b[0m\u001b[1;33m\u001b[0m\u001b[0m\n",
      "\u001b[1;32mD:\\shrikant\\Application\\anaconda\\lib\\site-packages\\chart_studio\\api\\v2\\utils.py\u001b[0m in \u001b[0;36mrequest\u001b[1;34m(method, url, **kwargs)\u001b[0m\n\u001b[0;32m    178\u001b[0m         \u001b[0mcontent\u001b[0m \u001b[1;33m=\u001b[0m \u001b[0mresponse\u001b[0m\u001b[1;33m.\u001b[0m\u001b[0mcontent\u001b[0m \u001b[1;32mif\u001b[0m \u001b[0mresponse\u001b[0m \u001b[1;32melse\u001b[0m \u001b[1;34m\"No content\"\u001b[0m\u001b[1;33m\u001b[0m\u001b[1;33m\u001b[0m\u001b[0m\n\u001b[0;32m    179\u001b[0m         \u001b[1;32mraise\u001b[0m \u001b[0mexceptions\u001b[0m\u001b[1;33m.\u001b[0m\u001b[0mPlotlyRequestError\u001b[0m\u001b[1;33m(\u001b[0m\u001b[0mmessage\u001b[0m\u001b[1;33m,\u001b[0m \u001b[0mstatus_code\u001b[0m\u001b[1;33m,\u001b[0m \u001b[0mcontent\u001b[0m\u001b[1;33m)\u001b[0m\u001b[1;33m\u001b[0m\u001b[1;33m\u001b[0m\u001b[0m\n\u001b[1;32m--> 180\u001b[1;33m     \u001b[0mvalidate_response\u001b[0m\u001b[1;33m(\u001b[0m\u001b[0mresponse\u001b[0m\u001b[1;33m)\u001b[0m\u001b[1;33m\u001b[0m\u001b[1;33m\u001b[0m\u001b[0m\n\u001b[0m\u001b[0;32m    181\u001b[0m     \u001b[1;32mreturn\u001b[0m \u001b[0mresponse\u001b[0m\u001b[1;33m\u001b[0m\u001b[1;33m\u001b[0m\u001b[0m\n",
      "\u001b[1;32mD:\\shrikant\\Application\\anaconda\\lib\\site-packages\\chart_studio\\api\\v2\\utils.py\u001b[0m in \u001b[0;36mvalidate_response\u001b[1;34m(response)\u001b[0m\n\u001b[0;32m     80\u001b[0m         \u001b[0mmessage\u001b[0m \u001b[1;33m=\u001b[0m \u001b[0mcontent\u001b[0m \u001b[1;32mif\u001b[0m \u001b[0mcontent\u001b[0m \u001b[1;32melse\u001b[0m \u001b[1;34m\"No Content\"\u001b[0m\u001b[1;33m\u001b[0m\u001b[1;33m\u001b[0m\u001b[0m\n\u001b[0;32m     81\u001b[0m \u001b[1;33m\u001b[0m\u001b[0m\n\u001b[1;32m---> 82\u001b[1;33m     \u001b[1;32mraise\u001b[0m \u001b[0mexceptions\u001b[0m\u001b[1;33m.\u001b[0m\u001b[0mPlotlyRequestError\u001b[0m\u001b[1;33m(\u001b[0m\u001b[0mmessage\u001b[0m\u001b[1;33m,\u001b[0m \u001b[0mstatus_code\u001b[0m\u001b[1;33m,\u001b[0m \u001b[0mcontent\u001b[0m\u001b[1;33m)\u001b[0m\u001b[1;33m\u001b[0m\u001b[1;33m\u001b[0m\u001b[0m\n\u001b[0m\u001b[0;32m     83\u001b[0m \u001b[1;33m\u001b[0m\u001b[0m\n\u001b[0;32m     84\u001b[0m \u001b[1;33m\u001b[0m\u001b[0m\n",
      "\u001b[1;31mPlotlyRequestError\u001b[0m: Authentication credentials were not provided."
     ]
    }
   ],
   "source": [
    "import chart_studio.plotly as py  #to create visualization\n",
    "import plotly.graph_objs as go # go creates interactive visualization\n",
    "from plotly.offline import iplot\n",
    "\n",
    "from wordcloud import WordCloud, STOPWORDS #pip  install Wordcloud\n",
    "\n",
    "#nltk\n",
    "from nltk.stem import WordNetLemmatizer\n",
    "from nltk.sentiment.vader import SentimentIntensityAnalyzer\n",
    "from nltk.sentiment.util import *\n",
    "from nltk import tokenize\n",
    "\n",
    "df_tweets['Time'] = pd.to_datetime(df_tweets['created_at'],format='%y-%m-%d %H:%M:%S')\n",
    "tweetsT = df_tweets['Time']\n",
    "trace = go.Histogram(\n",
    "    x=tweetsT,\n",
    "    marker=dict(\n",
    "        color='blue'),\n",
    "    opacity=0.75\n",
    ")\n",
    "layout = go.Layout(\n",
    "    title='Tweet Activity Over Years',\n",
    "    height=450, \n",
    "    width=1200,\n",
    "    xaxis=dict(title='Month and Year'),\n",
    "    yaxis=dict(title='Tweet Qty'),\n",
    "    bargap=0.2,\n",
    ")\n",
    "data = [trace]\n",
    "fig = go.Figure(data=data, layout=layout)\n",
    "py.iplot(fig)"
   ]
  },
  {
   "cell_type": "code",
   "execution_count": 22,
   "metadata": {},
   "outputs": [],
   "source": [
    "df_tweets_pop = df_tweets.groupby(['created_at','full_text'],as_index = False)['retweet_count'].sum().sort_values(by='retweet_count', ascending=False)"
   ]
  },
  {
   "cell_type": "code",
   "execution_count": 23,
   "metadata": {},
   "outputs": [
    {
     "data": {
      "image/png": "[encoded data removed]",
      "text/plain": [
       "<Figure size 576x576 with 1 Axes>"
      ]
     },
     "metadata": {
      "needs_background": "light"
     },
     "output_type": "display_data"
    }
   ],
   "source": [
    "from wordcloud import WordCloud\n",
    "def plot_wordcloud(msg):\n",
    "    plt.figure(figsize=(8,8))\n",
    "    wordcloud = WordCloud(max_font_size = 120, max_words=100, background_color=\"white\").generate(\",  \".join(msg))\n",
    "    plt.imshow(wordcloud, interpolation='bilinear')\n",
    "    plt.axis(\"off\")\n",
    "    plt.show()\n",
    "    img_path = \"./wordcloud.png\"\n",
    "    wordcloud.to_file(img_path)\n",
    "\n",
    "plot_wordcloud(df_tweets['cleaned_text'])"
   ]
  },
  {
   "cell_type": "code",
   "execution_count": 47,
   "metadata": {},
   "outputs": [
    {
     "name": "stdout",
     "output_type": "stream",
     "text": [
      "Requirement already satisfied: nltk in d:\\shrikant\\application\\anaconda\\lib\\site-packages (3.4)\n",
      "Requirement already satisfied: six in d:\\shrikant\\application\\anaconda\\lib\\site-packages (from nltk) (1.12.0)\n",
      "Requirement already satisfied: singledispatch in d:\\shrikant\\application\\anaconda\\lib\\site-packages (from nltk) (3.4.0.3)\n"
     ]
    }
   ],
   "source": [
    "!pip install nltk"
   ]
  },
  {
   "cell_type": "code",
   "execution_count": 48,
   "metadata": {
    "scrolled": true
   },
   "outputs": [
    {
     "ename": "LookupError",
     "evalue": "\n**********************************************************************\n  Resource \u001b[93mstopwords\u001b[0m not found.\n  Please use the NLTK Downloader to obtain the resource:\n\n  \u001b[31m>>> import nltk\n  >>> nltk.download('stopwords')\n  \u001b[0m\n  Attempted to load \u001b[93mcorpora/stopwords\u001b[0m\n\n  Searched in:\n    - 'C:\\\\Users\\\\shrikant/nltk_data'\n    - 'D:\\\\shrikant\\\\Application\\\\anaconda\\\\nltk_data'\n    - 'D:\\\\shrikant\\\\Application\\\\anaconda\\\\share\\\\nltk_data'\n    - 'D:\\\\shrikant\\\\Application\\\\anaconda\\\\lib\\\\nltk_data'\n    - 'C:\\\\Users\\\\shrikant\\\\AppData\\\\Roaming\\\\nltk_data'\n    - 'C:\\\\nltk_data'\n    - 'D:\\\\nltk_data'\n    - 'E:\\\\nltk_data'\n**********************************************************************\n",
     "output_type": "error",
     "traceback": [
      "\u001b[1;31m---------------------------------------------------------------------------\u001b[0m",
      "\u001b[1;31mLookupError\u001b[0m                               Traceback (most recent call last)",
      "\u001b[1;32mD:\\shrikant\\Application\\anaconda\\lib\\site-packages\\nltk\\corpus\\util.py\u001b[0m in \u001b[0;36m__load\u001b[1;34m(self)\u001b[0m\n\u001b[0;32m     85\u001b[0m                 \u001b[1;32mtry\u001b[0m\u001b[1;33m:\u001b[0m\u001b[1;33m\u001b[0m\u001b[1;33m\u001b[0m\u001b[0m\n\u001b[1;32m---> 86\u001b[1;33m                     \u001b[0mroot\u001b[0m \u001b[1;33m=\u001b[0m \u001b[0mnltk\u001b[0m\u001b[1;33m.\u001b[0m\u001b[0mdata\u001b[0m\u001b[1;33m.\u001b[0m\u001b[0mfind\u001b[0m\u001b[1;33m(\u001b[0m\u001b[1;34m'{}/{}'\u001b[0m\u001b[1;33m.\u001b[0m\u001b[0mformat\u001b[0m\u001b[1;33m(\u001b[0m\u001b[0mself\u001b[0m\u001b[1;33m.\u001b[0m\u001b[0msubdir\u001b[0m\u001b[1;33m,\u001b[0m \u001b[0mzip_name\u001b[0m\u001b[1;33m)\u001b[0m\u001b[1;33m)\u001b[0m\u001b[1;33m\u001b[0m\u001b[1;33m\u001b[0m\u001b[0m\n\u001b[0m\u001b[0;32m     87\u001b[0m                 \u001b[1;32mexcept\u001b[0m \u001b[0mLookupError\u001b[0m\u001b[1;33m:\u001b[0m\u001b[1;33m\u001b[0m\u001b[1;33m\u001b[0m\u001b[0m\n",
      "\u001b[1;32mD:\\shrikant\\Application\\anaconda\\lib\\site-packages\\nltk\\data.py\u001b[0m in \u001b[0;36mfind\u001b[1;34m(resource_name, paths)\u001b[0m\n\u001b[0;32m    698\u001b[0m     \u001b[0mresource_not_found\u001b[0m \u001b[1;33m=\u001b[0m \u001b[1;34m'\\n%s\\n%s\\n%s\\n'\u001b[0m \u001b[1;33m%\u001b[0m \u001b[1;33m(\u001b[0m\u001b[0msep\u001b[0m\u001b[1;33m,\u001b[0m \u001b[0mmsg\u001b[0m\u001b[1;33m,\u001b[0m \u001b[0msep\u001b[0m\u001b[1;33m)\u001b[0m\u001b[1;33m\u001b[0m\u001b[1;33m\u001b[0m\u001b[0m\n\u001b[1;32m--> 699\u001b[1;33m     \u001b[1;32mraise\u001b[0m \u001b[0mLookupError\u001b[0m\u001b[1;33m(\u001b[0m\u001b[0mresource_not_found\u001b[0m\u001b[1;33m)\u001b[0m\u001b[1;33m\u001b[0m\u001b[1;33m\u001b[0m\u001b[0m\n\u001b[0m\u001b[0;32m    700\u001b[0m \u001b[1;33m\u001b[0m\u001b[0m\n",
      "\u001b[1;31mLookupError\u001b[0m: \n**********************************************************************\n  Resource \u001b[93mstopwords\u001b[0m not found.\n  Please use the NLTK Downloader to obtain the resource:\n\n  \u001b[31m>>> import nltk\n  >>> nltk.download('stopwords')\n  \u001b[0m\n  Attempted to load \u001b[93mcorpora/stopwords.zip/stopwords/\u001b[0m\n\n  Searched in:\n    - 'C:\\\\Users\\\\shrikant/nltk_data'\n    - 'D:\\\\shrikant\\\\Application\\\\anaconda\\\\nltk_data'\n    - 'D:\\\\shrikant\\\\Application\\\\anaconda\\\\share\\\\nltk_data'\n    - 'D:\\\\shrikant\\\\Application\\\\anaconda\\\\lib\\\\nltk_data'\n    - 'C:\\\\Users\\\\shrikant\\\\AppData\\\\Roaming\\\\nltk_data'\n    - 'C:\\\\nltk_data'\n    - 'D:\\\\nltk_data'\n    - 'E:\\\\nltk_data'\n**********************************************************************\n",
      "\nDuring handling of the above exception, another exception occurred:\n",
      "\u001b[1;31mLookupError\u001b[0m                               Traceback (most recent call last)",
      "\u001b[1;32m<ipython-input-48-c4e5eb88e3db>\u001b[0m in \u001b[0;36m<module>\u001b[1;34m\u001b[0m\n\u001b[0;32m      2\u001b[0m \u001b[1;32mimport\u001b[0m \u001b[0mnltk\u001b[0m\u001b[1;33m\u001b[0m\u001b[1;33m\u001b[0m\u001b[0m\n\u001b[0;32m      3\u001b[0m \u001b[1;32mfrom\u001b[0m \u001b[0mnltk\u001b[0m\u001b[1;33m.\u001b[0m\u001b[0mcorpus\u001b[0m \u001b[1;32mimport\u001b[0m \u001b[0mstopwords\u001b[0m\u001b[1;33m\u001b[0m\u001b[1;33m\u001b[0m\u001b[0m\n\u001b[1;32m----> 4\u001b[1;33m \u001b[0mstop\u001b[0m \u001b[1;33m=\u001b[0m \u001b[0mstopwords\u001b[0m\u001b[1;33m.\u001b[0m\u001b[0mwords\u001b[0m\u001b[1;33m(\u001b[0m\u001b[1;34m'english'\u001b[0m\u001b[1;33m)\u001b[0m\u001b[1;33m\u001b[0m\u001b[1;33m\u001b[0m\u001b[0m\n\u001b[0m\u001b[0;32m      5\u001b[0m \u001b[0mcv\u001b[0m \u001b[1;33m=\u001b[0m \u001b[0mdf_tweets\u001b[0m\u001b[1;33m[\u001b[0m\u001b[1;34m'cleaned_text'\u001b[0m\u001b[1;33m]\u001b[0m\u001b[1;33m.\u001b[0m\u001b[0mapply\u001b[0m\u001b[1;33m(\u001b[0m\u001b[1;32mlambda\u001b[0m \u001b[0mx\u001b[0m\u001b[1;33m:\u001b[0m \u001b[1;34m' '\u001b[0m\u001b[1;33m.\u001b[0m\u001b[0mjoin\u001b[0m\u001b[1;33m(\u001b[0m\u001b[1;33m[\u001b[0m\u001b[0mword\u001b[0m \u001b[1;32mfor\u001b[0m \u001b[0mword\u001b[0m \u001b[1;32min\u001b[0m \u001b[0mx\u001b[0m\u001b[1;33m.\u001b[0m\u001b[0msplit\u001b[0m\u001b[1;33m(\u001b[0m\u001b[1;33m)\u001b[0m \u001b[1;32mif\u001b[0m \u001b[0mword\u001b[0m \u001b[1;32mnot\u001b[0m \u001b[1;32min\u001b[0m \u001b[1;33m(\u001b[0m\u001b[0mstop\u001b[0m\u001b[1;33m)\u001b[0m\u001b[1;33m]\u001b[0m\u001b[1;33m)\u001b[0m\u001b[1;33m)\u001b[0m\u001b[1;33m.\u001b[0m\u001b[0mto_frame\u001b[0m\u001b[1;33m(\u001b[0m\u001b[1;33m)\u001b[0m\u001b[1;33m\u001b[0m\u001b[1;33m\u001b[0m\u001b[0m\n\u001b[0;32m      6\u001b[0m \u001b[1;33m\u001b[0m\u001b[0m\n",
      "\u001b[1;32mD:\\shrikant\\Application\\anaconda\\lib\\site-packages\\nltk\\corpus\\util.py\u001b[0m in \u001b[0;36m__getattr__\u001b[1;34m(self, attr)\u001b[0m\n\u001b[0;32m    121\u001b[0m             \u001b[1;32mraise\u001b[0m \u001b[0mAttributeError\u001b[0m\u001b[1;33m(\u001b[0m\u001b[1;34m\"LazyCorpusLoader object has no attribute '__bases__'\"\u001b[0m\u001b[1;33m)\u001b[0m\u001b[1;33m\u001b[0m\u001b[1;33m\u001b[0m\u001b[0m\n\u001b[0;32m    122\u001b[0m \u001b[1;33m\u001b[0m\u001b[0m\n\u001b[1;32m--> 123\u001b[1;33m         \u001b[0mself\u001b[0m\u001b[1;33m.\u001b[0m\u001b[0m__load\u001b[0m\u001b[1;33m(\u001b[0m\u001b[1;33m)\u001b[0m\u001b[1;33m\u001b[0m\u001b[1;33m\u001b[0m\u001b[0m\n\u001b[0m\u001b[0;32m    124\u001b[0m         \u001b[1;31m# This looks circular, but its not, since __load() changes our\u001b[0m\u001b[1;33m\u001b[0m\u001b[1;33m\u001b[0m\u001b[1;33m\u001b[0m\u001b[0m\n\u001b[0;32m    125\u001b[0m         \u001b[1;31m# __class__ to something new:\u001b[0m\u001b[1;33m\u001b[0m\u001b[1;33m\u001b[0m\u001b[1;33m\u001b[0m\u001b[0m\n",
      "\u001b[1;32mD:\\shrikant\\Application\\anaconda\\lib\\site-packages\\nltk\\corpus\\util.py\u001b[0m in \u001b[0;36m__load\u001b[1;34m(self)\u001b[0m\n\u001b[0;32m     86\u001b[0m                     \u001b[0mroot\u001b[0m \u001b[1;33m=\u001b[0m \u001b[0mnltk\u001b[0m\u001b[1;33m.\u001b[0m\u001b[0mdata\u001b[0m\u001b[1;33m.\u001b[0m\u001b[0mfind\u001b[0m\u001b[1;33m(\u001b[0m\u001b[1;34m'{}/{}'\u001b[0m\u001b[1;33m.\u001b[0m\u001b[0mformat\u001b[0m\u001b[1;33m(\u001b[0m\u001b[0mself\u001b[0m\u001b[1;33m.\u001b[0m\u001b[0msubdir\u001b[0m\u001b[1;33m,\u001b[0m \u001b[0mzip_name\u001b[0m\u001b[1;33m)\u001b[0m\u001b[1;33m)\u001b[0m\u001b[1;33m\u001b[0m\u001b[1;33m\u001b[0m\u001b[0m\n\u001b[0;32m     87\u001b[0m                 \u001b[1;32mexcept\u001b[0m \u001b[0mLookupError\u001b[0m\u001b[1;33m:\u001b[0m\u001b[1;33m\u001b[0m\u001b[1;33m\u001b[0m\u001b[0m\n\u001b[1;32m---> 88\u001b[1;33m                     \u001b[1;32mraise\u001b[0m \u001b[0me\u001b[0m\u001b[1;33m\u001b[0m\u001b[1;33m\u001b[0m\u001b[0m\n\u001b[0m\u001b[0;32m     89\u001b[0m \u001b[1;33m\u001b[0m\u001b[0m\n\u001b[0;32m     90\u001b[0m         \u001b[1;31m# Load the corpus.\u001b[0m\u001b[1;33m\u001b[0m\u001b[1;33m\u001b[0m\u001b[1;33m\u001b[0m\u001b[0m\n",
      "\u001b[1;32mD:\\shrikant\\Application\\anaconda\\lib\\site-packages\\nltk\\corpus\\util.py\u001b[0m in \u001b[0;36m__load\u001b[1;34m(self)\u001b[0m\n\u001b[0;32m     81\u001b[0m         \u001b[1;32melse\u001b[0m\u001b[1;33m:\u001b[0m\u001b[1;33m\u001b[0m\u001b[1;33m\u001b[0m\u001b[0m\n\u001b[0;32m     82\u001b[0m             \u001b[1;32mtry\u001b[0m\u001b[1;33m:\u001b[0m\u001b[1;33m\u001b[0m\u001b[1;33m\u001b[0m\u001b[0m\n\u001b[1;32m---> 83\u001b[1;33m                 \u001b[0mroot\u001b[0m \u001b[1;33m=\u001b[0m \u001b[0mnltk\u001b[0m\u001b[1;33m.\u001b[0m\u001b[0mdata\u001b[0m\u001b[1;33m.\u001b[0m\u001b[0mfind\u001b[0m\u001b[1;33m(\u001b[0m\u001b[1;34m'{}/{}'\u001b[0m\u001b[1;33m.\u001b[0m\u001b[0mformat\u001b[0m\u001b[1;33m(\u001b[0m\u001b[0mself\u001b[0m\u001b[1;33m.\u001b[0m\u001b[0msubdir\u001b[0m\u001b[1;33m,\u001b[0m \u001b[0mself\u001b[0m\u001b[1;33m.\u001b[0m\u001b[0m__name\u001b[0m\u001b[1;33m)\u001b[0m\u001b[1;33m)\u001b[0m\u001b[1;33m\u001b[0m\u001b[1;33m\u001b[0m\u001b[0m\n\u001b[0m\u001b[0;32m     84\u001b[0m             \u001b[1;32mexcept\u001b[0m \u001b[0mLookupError\u001b[0m \u001b[1;32mas\u001b[0m \u001b[0me\u001b[0m\u001b[1;33m:\u001b[0m\u001b[1;33m\u001b[0m\u001b[1;33m\u001b[0m\u001b[0m\n\u001b[0;32m     85\u001b[0m                 \u001b[1;32mtry\u001b[0m\u001b[1;33m:\u001b[0m\u001b[1;33m\u001b[0m\u001b[1;33m\u001b[0m\u001b[0m\n",
      "\u001b[1;32mD:\\shrikant\\Application\\anaconda\\lib\\site-packages\\nltk\\data.py\u001b[0m in \u001b[0;36mfind\u001b[1;34m(resource_name, paths)\u001b[0m\n\u001b[0;32m    697\u001b[0m     \u001b[0msep\u001b[0m \u001b[1;33m=\u001b[0m \u001b[1;34m'*'\u001b[0m \u001b[1;33m*\u001b[0m \u001b[1;36m70\u001b[0m\u001b[1;33m\u001b[0m\u001b[1;33m\u001b[0m\u001b[0m\n\u001b[0;32m    698\u001b[0m     \u001b[0mresource_not_found\u001b[0m \u001b[1;33m=\u001b[0m \u001b[1;34m'\\n%s\\n%s\\n%s\\n'\u001b[0m \u001b[1;33m%\u001b[0m \u001b[1;33m(\u001b[0m\u001b[0msep\u001b[0m\u001b[1;33m,\u001b[0m \u001b[0mmsg\u001b[0m\u001b[1;33m,\u001b[0m \u001b[0msep\u001b[0m\u001b[1;33m)\u001b[0m\u001b[1;33m\u001b[0m\u001b[1;33m\u001b[0m\u001b[0m\n\u001b[1;32m--> 699\u001b[1;33m     \u001b[1;32mraise\u001b[0m \u001b[0mLookupError\u001b[0m\u001b[1;33m(\u001b[0m\u001b[0mresource_not_found\u001b[0m\u001b[1;33m)\u001b[0m\u001b[1;33m\u001b[0m\u001b[1;33m\u001b[0m\u001b[0m\n\u001b[0m\u001b[0;32m    700\u001b[0m \u001b[1;33m\u001b[0m\u001b[0m\n\u001b[0;32m    701\u001b[0m \u001b[1;33m\u001b[0m\u001b[0m\n",
      "\u001b[1;31mLookupError\u001b[0m: \n**********************************************************************\n  Resource \u001b[93mstopwords\u001b[0m not found.\n  Please use the NLTK Downloader to obtain the resource:\n\n  \u001b[31m>>> import nltk\n  >>> nltk.download('stopwords')\n  \u001b[0m\n  Attempted to load \u001b[93mcorpora/stopwords\u001b[0m\n\n  Searched in:\n    - 'C:\\\\Users\\\\shrikant/nltk_data'\n    - 'D:\\\\shrikant\\\\Application\\\\anaconda\\\\nltk_data'\n    - 'D:\\\\shrikant\\\\Application\\\\anaconda\\\\share\\\\nltk_data'\n    - 'D:\\\\shrikant\\\\Application\\\\anaconda\\\\lib\\\\nltk_data'\n    - 'C:\\\\Users\\\\shrikant\\\\AppData\\\\Roaming\\\\nltk_data'\n    - 'C:\\\\nltk_data'\n    - 'D:\\\\nltk_data'\n    - 'E:\\\\nltk_data'\n**********************************************************************\n"
     ]
    }
   ],
   "source": [
    "#Remove Stopwords\n",
    "#import nltk\n",
    "from nltk.corpus import stopwords\n",
    "stop = stopwords.words('english')\n",
    "cv = df_tweets['cleaned_text'].apply(lambda x: ' '.join([word for word in x.split() if word not in (stop)])).to_frame()\n",
    "\n",
    "regions = pd.Series(' ',join(cv['cleaned_text']).lower().split()),value_counts()[1:10].to_frame()\n",
    "regions['y']=regions[0]\n",
    "regions['x']=regions.index\n",
    "regions.plot.pie(x='x',y='y',figsize=(7,7))\n",
    "plt.show()"
   ]
  },
  {
   "cell_type": "code",
   "execution_count": null,
   "metadata": {},
   "outputs": [],
   "source": []
  }
 ],
 "metadata": {
  "kernelspec": {
   "display_name": "Python 3",
   "language": "python",
   "name": "python3"
  },
  "language_info": {
   "codemirror_mode": {
    "name": "ipython",
    "version": 3
   },
   "file_extension": ".py",
   "mimetype": "text/x-python",
   "name": "python",
   "nbconvert_exporter": "python",
   "pygments_lexer": "ipython3",
   "version": "3.7.1"
  }
 },
 "nbformat": 4,
 "nbformat_minor": 2
}
