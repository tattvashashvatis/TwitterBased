{
 "cells": [
  {
   "cell_type": "code",
   "execution_count": null,
   "metadata": {
    "scrolled": false
   },
   "outputs": [],
   "source": [
    "help ()"
   ]
  },
  {
   "cell_type": "code",
   "execution_count": null,
   "metadata": {},
   "outputs": [],
   "source": [
    "i = 'my name'\n",
    "print (i)"
   ]
  },
  {
   "cell_type": "code",
   "execution_count": null,
   "metadata": {},
   "outputs": [],
   "source": [
    "str_x='Apples are better than \\\\n Oranges'\n",
    "print(str_x)"
   ]
  },
  {
   "cell_type": "code",
   "execution_count": null,
   "metadata": {},
   "outputs": [],
   "source": [
    "str_ex = 'i love python because it is so easy to use it and also it is used by many other IT companies'\n",
    "str_ex.split(\"it\")\n",
    "print (str_ex.split('it'))\n",
    "str_ex.capitalize()"
   ]
  },
  {
   "cell_type": "code",
   "execution_count": null,
   "metadata": {},
   "outputs": [],
   "source": [
    "from datetime import datetime\n",
    "date1=\"wednesday, june 6, 2018\"\n",
    "date2='6/6/18'\n",
    "date3='06-06-2018'\n",
    "date4='6Jun18'\n",
    "date5='Jun618'\n",
    "#dt1=datetime.strptime(date1,'%A, %B %d, %Y')\n",
    "#print (dt1)\n",
    "dt4=datetime.strptime(date4,'%d%b%y')\n",
    "print(dt4)\n",
    "dt5=datetime.strptime(date5,'%b%d%y')\n",
    "print(dt5)"
   ]
  },
  {
   "cell_type": "code",
   "execution_count": null,
   "metadata": {},
   "outputs": [],
   "source": [
    "help (repr)"
   ]
  },
  {
   "cell_type": "code",
   "execution_count": null,
   "metadata": {},
   "outputs": [],
   "source": [
    "help"
   ]
  },
  {
   "cell_type": "code",
   "execution_count": null,
   "metadata": {},
   "outputs": [],
   "source": [
    "i = \"my name\"\n",
    "if i=4\n",
    "print (i)\n",
    "else print (i)"
   ]
  },
  {
   "cell_type": "code",
   "execution_count": null,
   "metadata": {},
   "outputs": [],
   "source": [
    "text=\"my name\" \n",
    "number = 100\n",
    "    if number < 101:\n",
    "     print (text)\n",
    "print text"
   ]
  },
  {
   "cell_type": "code",
   "execution_count": null,
   "metadata": {},
   "outputs": [],
   "source": [
    " i =\"my name is kaun\"\n",
    "print (i)\n",
    "    "
   ]
  },
  {
   "cell_type": "code",
   "execution_count": null,
   "metadata": {},
   "outputs": [],
   "source": [
    "text=\"my name \"\n",
    "concat =\"kaun hae\"\n",
    "print (text+concat)"
   ]
  },
  {
   "cell_type": "code",
   "execution_count": null,
   "metadata": {},
   "outputs": [],
   "source": [
    "print(\"Apples are better than\")\n",
    "'''print(\"\")'''\n",
    "print(\"oraNGES\")"
   ]
  },
  {
   "cell_type": "code",
   "execution_count": null,
   "metadata": {},
   "outputs": [],
   "source": [
    "'''Apples are better than \n",
    "Oranges'''"
   ]
  },
  {
   "cell_type": "code",
   "execution_count": null,
   "metadata": {},
   "outputs": [],
   "source": [
    "'''!@#$%^&*()_+\n",
    "##%$^&`\\|\\\n",
    "?><+09876\n",
    "54321`'''"
   ]
  },
  {
   "cell_type": "code",
   "execution_count": null,
   "metadata": {},
   "outputs": [],
   "source": [
    "print #!@#$%^&*()_+\n",
    "##%$^&`\\|\\\n",
    "#?><+09876\n",
    "#54321`'''"
   ]
  },
  {
   "cell_type": "code",
   "execution_count": null,
   "metadata": {},
   "outputs": [],
   "source": [
    "print( #!@#$%^&*()_+\n",
    "##%$^&`\\|\\\n",
    "#?><+09876\n",
    "#54321`''')"
   ]
  },
  {
   "cell_type": "code",
   "execution_count": null,
   "metadata": {},
   "outputs": [],
   "source": [
    "print ('#!@#$%^&*()_+')\n",
    "print ('\"##%$^&`\\|\\\"')\n",
    "#?><+09876\n",
    "#54321`''')"
   ]
  },
  {
   "cell_type": "code",
   "execution_count": null,
   "metadata": {},
   "outputs": [],
   "source": [
    "string_ex = “I love python because it is so easy to use it and also it is used by many other IT companies”\n",
    "string_ex.split(\"it\")"
   ]
  },
  {
   "cell_type": "code",
   "execution_count": null,
   "metadata": {},
   "outputs": [],
   "source": [
    "a=100\n",
    "b=2.7\n",
    "print(b/a)\n",
    "c=\"3.44\"\n",
    "print(c)\n",
    "print(float(c)/a)\n",
    "d=20\n",
    "d=\"40\"\n",
    "print(d)\n",
    "a=\"this is my time\"\n",
    "print (a.replace('t','i'))\n"
   ]
  },
  {
   "cell_type": "code",
   "execution_count": null,
   "metadata": {},
   "outputs": [],
   "source": [
    "list = ['test', 'big', 23, 'rest',(23, 'test', 45)]\n",
    "#print (list)\n",
    "print (list[::4])\n",
    "strr = ('test, base')\n",
    "print (strr)"
   ]
  },
  {
   "cell_type": "code",
   "execution_count": null,
   "metadata": {},
   "outputs": [],
   "source": [
    "strex='i lOve pYthon'\n",
    "strex.isupper()\n",
    "strex.swapcase()\n",
    "strex.strip('P')\n",
    "#strex[1:-1]"
   ]
  },
  {
   "cell_type": "markdown",
   "metadata": {},
   "source": [
    "# Shrikant Sundaram \n",
    "## Professional Profile\n",
    "\n",
    "Apply my *vast experience in IT industry* towards the enhancement of understanding and comprehension of employed teams.\n",
    "Direct practical experience towards imbibing values of an organization.\n",
    "Contribute to the well being of the organizational methods and processes for wholesome growth."
   ]
  },
  {
   "cell_type": "code",
   "execution_count": null,
   "metadata": {},
   "outputs": [],
   "source": [
    "import pandas as pd\n",
    "\n",
    "airline_df = pd.read_csv(\"D:/shrikant/Application/Wk7-11-12/WS7_attachment_Project_Datasets_lyst9827/Project Datasets/attachment_Project_1_NYC-Flight_data/Project_1_NYC-Flight data/flight_data.csv\")"
   ]
  },
  {
   "cell_type": "code",
   "execution_count": null,
   "metadata": {},
   "outputs": [],
   "source": [
    "airline_df.dtypes"
   ]
  },
  {
   "cell_type": "code",
   "execution_count": null,
   "metadata": {},
   "outputs": [],
   "source": [
    "airline_df.shape"
   ]
  },
  {
   "cell_type": "code",
   "execution_count": null,
   "metadata": {},
   "outputs": [],
   "source": [
    "airline_df.info()"
   ]
  },
  {
   "cell_type": "code",
   "execution_count": null,
   "metadata": {},
   "outputs": [],
   "source": [
    "airline_df.columns"
   ]
  },
  {
   "cell_type": "code",
   "execution_count": null,
   "metadata": {
    "scrolled": true
   },
   "outputs": [],
   "source": [
    "b()"
   ]
  },
  {
   "cell_type": "code",
   "execution_count": null,
   "metadata": {
    "scrolled": false
   },
   "outputs": [],
   "source": [
    "airline_df"
   ]
  },
  {
   "cell_type": "code",
   "execution_count": null,
   "metadata": {},
   "outputs": [],
   "source": [
    "airline_df.isnull().sum()"
   ]
  },
  {
   "cell_type": "code",
   "execution_count": null,
   "metadata": {},
   "outputs": [],
   "source": [
    "help ()\n",
    "\n",
    "i = 'my name'\n",
    "print (i)\n",
    "\n",
    "str_x='Apples are better than \\\\n Oranges'\n",
    "print(str_x)\n",
    "\n",
    "str_ex = 'i love python because it is so easy to use it and also it is used by many other IT companies'\n",
    "str_ex.split(\"it\")\n",
    "print (str_ex.split('it'))\n",
    "str_ex.capitalize()\n",
    "\n",
    "from datetime import datetime\n",
    "date1=\"wednesday, june 6, 2018\"\n",
    "date2='6/6/18'\n",
    "date3='06-06-2018'\n",
    "date4='6Jun18'\n",
    "date5='Jun618'\n",
    "#dt1=datetime.strptime(date1,'%A, %B %d, %Y')\n",
    "#print (dt1)\n",
    "dt4=datetime.strptime(date4,'%d%b%y')\n",
    "print(dt4)\n",
    "dt5=datetime.strptime(date5,'%b%d%y')\n",
    "print(dt5)\n",
    "\n",
    "help (repr)\n",
    "\n",
    "help\n",
    "\n",
    "i = \"my name\"\n",
    "if i=4\n",
    "print (i)\n",
    "else print (i)\n",
    "\n",
    "text=\"my name\" \n",
    "number = 100\n",
    "    if number < 101:\n",
    "     print (text)\n",
    "print text\n",
    "\n",
    " i =\"my name is kaun\"\n",
    "print (i)\n",
    "    \n",
    "\n",
    "text=\"my name \"\n",
    "concat =\"kaun hae\"\n",
    "print (text+concat)\n",
    "\n",
    "print(\"Apples are better than\")\n",
    "'''print(\"\")'''\n",
    "print(\"oraNGES\")\n",
    "\n",
    "'''Apples are better than \n",
    "Oranges'''\n",
    "\n",
    "'''!@#$%^&*()_+\n",
    "##%$^&`\\|\\\n",
    "?><+09876\n",
    "54321`'''\n",
    "\n",
    "print #!@#$%^&*()_+\n",
    "##%$^&`\\|\\\n",
    "#?><+09876\n",
    "#54321`'''\n",
    "\n",
    "print( #!@#$%^&*()_+\n",
    "##%$^&`\\|\\\n",
    "#?><+09876\n",
    "#54321`''')\n",
    "\n",
    "print ('#!@#$%^&*()_+')\n",
    "print ('\"##%$^&`\\|\\\"')\n",
    "#?><+09876\n",
    "#54321`''')\n",
    "\n",
    "string_ex = “I love python because it is so easy to use it and also it is used by many other IT companies”\n",
    "string_ex.split(\"it\")\n",
    "\n",
    "a=100\n",
    "b=2.7\n",
    "print(b/a)\n",
    "c=\"3.44\"\n",
    "print(c)\n",
    "print(float(c)/a)\n",
    "d=20\n",
    "d=\"40\"\n",
    "print(d)\n",
    "a=\"this is my time\"\n",
    "print (a.replace('t','i'))\n",
    "\n",
    "\n",
    "list = ['test', 'big', 23, 'rest',(23, 'test', 45)]\n",
    "#print (list)\n",
    "print (list[::4])\n",
    "strr = ('test, base')\n",
    "print (strr)\n",
    "\n",
    "strex='i lOve pYthon'\n",
    "strex.isupper()\n",
    "strex.swapcase()\n",
    "strex.strip('P')\n",
    "#strex[1:-1]\n",
    "\n",
    "# Shrikant Sundaram \n",
    "## Professional Profile\n",
    "\n",
    "Apply my *vast experience in IT industry* towards the enhancement of understanding and comprehension of employed teams.\n",
    "Direct practical experience towards imbibing values of an organization.\n",
    "Contribute to the well being of the organizational methods and processes for wholesome growth.\n",
    "\n",
    "import pandas as pd\n",
    "\n",
    "airline_df = pd.read_csv(\"D:/shrikant/Application/Wk7-11-12/WS7_attachment_Project_Datasets_lyst9827/Project Datasets/attachment_Project_1_NYC-Flight_data/Project_1_NYC-Flight data/flight_data.csv\")\n",
    "\n",
    "airline_df.dtypes\n",
    "\n",
    "airline_df.shape\n",
    "\n",
    "airline_df.info()\n",
    "\n",
    "airline_df.columns\n",
    "\n",
    "b()\n",
    "\n",
    "airline_df\n",
    "\n",
    "airline_df.isnull().sum()"
   ]
  },
  {
   "cell_type": "code",
   "execution_count": null,
   "metadata": {},
   "outputs": [],
   "source": []
  }
 ],
 "metadata": {
  "kernelspec": {
   "display_name": "Python 3",
   "language": "python",
   "name": "python3"
  },
  "language_info": {
   "codemirror_mode": {
    "name": "ipython",
    "version": 3
   },
   "file_extension": ".py",
   "mimetype": "text/x-python",
   "name": "python",
   "nbconvert_exporter": "python",
   "pygments_lexer": "ipython3",
   "version": "3.7.1"
  }
 },
 "nbformat": 4,
 "nbformat_minor": 2
}
